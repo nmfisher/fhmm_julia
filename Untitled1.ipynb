{
 "cells": [
  {
   "cell_type": "code",
   "execution_count": 640,
   "metadata": {},
   "outputs": [
    {
     "name": "stderr",
     "output_type": "stream",
     "text": [
      "WARNING: replacing module FHMMs.\n"
     ]
    },
    {
     "data": {
      "text/plain": [
       "decode (generic function with 42 methods)"
      ]
     },
     "execution_count": 640,
     "metadata": {},
     "output_type": "execute_result"
    }
   ],
   "source": [
    "using StatsBase\n",
    "using LinearAlgebra\n",
    "using Distributions\n",
    "include(\"C:\\\\Users\\\\Nick\\\\Documents\\\\Projects\\\\FHMMs.jl\\\\src\\\\FHMMs.jl\")\n",
    "\n",
    "function generate(model::Main.FHMMs.FHMM, timesteps::Int)\n",
    "    θ = zeros(model.K, model.M, timesteps)\n",
    "\n",
    "    X = zeros(size(model.W)[1], timesteps)\n",
    "    # choose initial states based on π\n",
    "    states = zeros(Int64, model.M, timesteps)\n",
    "    for m=1:model.M\n",
    "        idx = sample(weights(model.π[:,m]))\n",
    "        #println(\"Sampled initial state $idx for chain $m\")\n",
    "        #println(model.π[:,m])\n",
    "        states[m,1] = Int64(idx)\n",
    "    end\n",
    "    for t=1:timesteps    \n",
    "        mu = zeros(size(model.W)[1])\n",
    "        for m=1:model.M\n",
    "            mu += model.W[:,states[m,t],m]\n",
    "        end\n",
    "        n = MvNormal(mu, model.C)\n",
    "        X[:,t] = rand(n)\n",
    "        if t < timesteps\n",
    "            for m=1:model.M\n",
    "                nsp = model.P[states[m],:,m]\n",
    "                smpl = sample(weights(nsp))\n",
    "                states[m,t+1] = smpl\n",
    "            end\n",
    "        end\n",
    "\n",
    "        p_yt = 0\n",
    "        for m=1:model.M\n",
    "            for s=1:model.K\n",
    "                # theta will be P(Mt=St|Yt) = P(Yt|Mt=St).P(Mt=St) / P(Yt)\n",
    "                # theta is states x chains x timesteps\n",
    "                # P is states x states x m\n",
    "                p_yt_given_mt_is_st = pdf(MvNormal(model.W[:, s, m], model.C), X[:,t])\n",
    "                if(t == 1)\n",
    "                    p_mt_is_st = model.π[s,m]\n",
    "                else\n",
    "                    p_mt_is_st = sum(θ[:,m,t-1] .* model.P[:,s,m])\n",
    "                end\n",
    "                θ[s,m,t] = (p_mt_is_st * p_yt_given_mt_is_st)\n",
    "                p_yt += p_yt_given_mt_is_st\n",
    "            end\n",
    "        end\n",
    "        θ[:,:,t] ./= p_yt\n",
    "    end\n",
    "    return X,states,θ \n",
    "end\n",
    "\n",
    "function decode(model::Main.FHMMs.FHMM, X::Array{Float64,2}, θ::Array{Float64,3})\n",
    "    D=size(X)[1]\n",
    "    timesteps=size(X)[2]\n",
    "    # V_f will be P(Mt=St|Yt) = P(Yt|Mt=St).P(Mt=St) / P(Yt)\n",
    "    V_f = zeros(model.K, model.M, timesteps) # numstates X numfactors X timesteps \n",
    "    C⁻¹ = model.C^-1\n",
    "    d = det(model.C)\n",
    "    for t=1:timesteps\n",
    "        p_Yt = 0\n",
    "        for m=1:model.M\n",
    "            for s=1:model.K\n",
    "                p_Y_given_mt = pdf(MvNormal(model.W[:,s,m], model.C), X[:,t])\n",
    "                p_mt_is_st=θ[s,m,t]\n",
    "                V_f[s,m,t] = (p_Y_given_mt * p_mt_is_st)[1]\n",
    "                p_Yt += p_Y_given_mt\n",
    "            end\n",
    "        end\n",
    "        V_f[:,:,t] ./= p_Yt\n",
    "    end\n",
    "    \n",
    "    # now to do viterbi decoding\n",
    "    tmp1 = zeros(model.K, model.M, timesteps)\n",
    "    tmp2 = zeros(Int64, (model.K, model.M, timesteps))\n",
    "    \n",
    "    tmp1[:,:,1] = V_f[:,:,1] .* model.π \n",
    "\n",
    "    for t=2:timesteps\n",
    "        for m=1:model.M\n",
    "            lastmax = maximum(tmp1[:,m,t-1])\n",
    "            lastmax_idx = argmax(tmp1[:,m,t-1])\n",
    "            for s=1:model.K\n",
    "                tmp2[s,m,t] = lastmax_idx\n",
    "                tmp1[s,m,t] = V_f[s,m,t] * lastmax * model.P[tmp2[s,m,t],s,m] \n",
    "            end\n",
    "        end\n",
    "    end\n",
    "    \n",
    "    est_states=zeros(Int64, model.M,timesteps)\n",
    "    for m=1:model.M\n",
    "        est_states[m,timesteps] = argmax(tmp1[:,m,timesteps])\n",
    "        for t=timesteps:-1:2\n",
    "            est_states[m,t-1] = tmp2[est_states[m,t],m,t]\n",
    "        end\n",
    "    end\n",
    "    return est_states, V_f, tmp1\n",
    "end"
   ]
  },
  {
   "cell_type": "code",
   "execution_count": 647,
   "metadata": {},
   "outputs": [
    {
     "data": {
      "text/plain": [
       "Main.FHMMs.FHMM(2, 3, [1.0 -99.0; 1.0 -99.0; 1.0 -99.0]\n",
       "\n",
       "[1.0 -99.0; 1.0 -99.0; 1.0 -99.0]\n",
       "\n",
       "[1.0 -99.0; 1.0 -99.0; 1.0 -99.0], [0.99 0.99 0.99; 0.01 0.01 0.01], [0.99 0.01; 0.01 0.99]\n",
       "\n",
       "[0.99 0.01; 0.01 0.99]\n",
       "\n",
       "[0.99 0.01; 0.01 0.99], [1.0 0.0 0.0; 0.0 1.0 0.0; 0.0 0.0 1.0])"
      ]
     },
     "execution_count": 647,
     "metadata": {},
     "output_type": "execute_result"
    }
   ],
   "source": [
    "# setup our known model\n",
    "# D=3, K=2, M=4, T=5\n",
    "W=cat([ 1.0 -99; 1 -99; 1 -99 ],\n",
    "      [ 1 -99 ; 1 -99 ; 1 -99 ],\n",
    "      [ 1 -99; 1 -99 ; 1 -99 ],dims=3)\n",
    "π = [ 0.99 0.99 0.99; 0.01 0.01 0.01; ]\n",
    "P = cat([ 0.99 0.01 ; 0.01 0.99 ; ],\n",
    "    [ 0.99 0.01 ; 0.01 0.99 ;  ],\n",
    "    [ 0.99 0.01 ; 0.01 0.99 ; ], dims=3)\n",
    "\n",
    "model_actual = Main.FHMMs.FHMM(2,3, \n",
    "    W, π, P, Array{Float64}(Diagonal([1;1;1])))\n"
   ]
  },
  {
   "cell_type": "code",
   "execution_count": 587,
   "metadata": {},
   "outputs": [
    {
     "data": {
      "text/plain": [
       "2×2×3 Array{Float64,3}:\n",
       "[:, :, 1] =\n",
       " 0.99  0.01\n",
       " 0.01  0.99\n",
       "\n",
       "[:, :, 2] =\n",
       " 0.99  0.01\n",
       " 0.01  0.99\n",
       "\n",
       "[:, :, 3] =\n",
       " 0.99  0.01\n",
       " 0.01  0.99"
      ]
     },
     "execution_count": 587,
     "metadata": {},
     "output_type": "execute_result"
    }
   ],
   "source": [
    "model_actual.P"
   ]
  },
  {
   "cell_type": "code",
   "execution_count": 642,
   "metadata": {},
   "outputs": [
    {
     "data": {
      "text/plain": [
       "2×3×2 Array{Float64,3}:\n",
       "[:, :, 1] =\n",
       " 0.33         0.33         0.33\n",
       " 2.32343e-12  2.32343e-12  2.32343e-12\n",
       "\n",
       "[:, :, 2] =\n",
       " 0.1089       0.1089       0.1089\n",
       " 2.03174e-11  2.03174e-11  2.03174e-11"
      ]
     },
     "execution_count": 642,
     "metadata": {},
     "output_type": "execute_result"
    }
   ],
   "source": [
    "generate(model_actual, 2)[3]"
   ]
  },
  {
   "cell_type": "code",
   "execution_count": 658,
   "metadata": {},
   "outputs": [
    {
     "name": "stdout",
     "output_type": "stream",
     "text": [
      "actual\n",
      "[1 1 1 1 1; 1 1 1 1 1; 1 1 1 1 1]\n",
      "estiamted\n",
      "[1 1 1 1 1; 1 1 1 1 1; 1 1 1 1 1]\n",
      "actual\n",
      "[1 1 1 1 1; 1 1 1 2 1; 1 1 1 1 1]\n",
      "estiamted\n",
      "[1 1 1 2 1; 1 1 1 2 1; 1 1 1 2 1]\n",
      "actual\n",
      "[1 1 1 1 1; 1 1 1 1 1; 1 1 1 1 1]\n",
      "estiamted\n",
      "[1 1 1 1 1; 1 1 1 1 1; 1 1 1 1 1]\n",
      "actual\n",
      "[1 1 1 1 1; 1 1 1 1 1; 1 1 1 1 1]\n",
      "estiamted\n",
      "[1 1 1 1 1; 1 1 1 1 1; 1 1 1 1 1]\n",
      "actual\n",
      "[1 1 1 1 1; 1 1 1 1 1; 1 1 1 1 1]\n",
      "estiamted\n",
      "[1 1 1 1 1; 1 1 1 1 1; 1 1 1 1 1]\n",
      "actual\n",
      "[1 1 1 1 1; 1 1 1 1 1; 1 1 1 1 1]\n",
      "estiamted\n",
      "[1 1 1 1 1; 1 1 1 1 1; 1 1 1 1 1]\n",
      "actual\n",
      "[1 1 1 1 1; 1 1 1 1 1; 1 1 1 1 1]\n",
      "estiamted\n",
      "[1 1 1 1 1; 1 1 1 1 1; 1 1 1 1 1]\n",
      "actual\n",
      "[1 1 1 1 1; 1 1 1 1 1; 1 1 1 1 1]\n",
      "estiamted\n",
      "[1 1 1 1 1; 1 1 1 1 1; 1 1 1 1 1]\n",
      "actual\n",
      "[1 1 1 1 1; 1 1 1 1 1; 1 1 1 1 1]\n",
      "estiamted\n",
      "[1 1 1 1 1; 1 1 1 1 1; 1 1 1 1 1]\n",
      "actual\n",
      "[1 1 1 1 1; 1 1 1 1 1; 1 1 1 1 1]\n",
      "estiamted\n",
      "[1 1 1 1 1; 1 1 1 1 1; 1 1 1 1 1]\n"
     ]
    },
    {
     "data": {
      "text/plain": [
       "0.0"
      ]
     },
     "execution_count": 658,
     "metadata": {},
     "output_type": "execute_result"
    }
   ],
   "source": [
    "j = 0\n",
    "for i in 1:10\n",
    "    first_X,first_states,first_theta = generate(model_actual, 5)\n",
    "    #println(first_X)\n",
    "    println(\"actual\")\n",
    "    println(first_states)\n",
    "    println(\"estiamted\")\n",
    "    println(decode(model_actual,first_X, first_theta)[1])\n",
    "    #if(first_states == decode(model_actual,first_X, first_theta)[1])\n",
    "    #    j += 1\n",
    "    #end\n",
    "end\n",
    "j / 10"
   ]
  },
  {
   "cell_type": "code",
   "execution_count": 154,
   "metadata": {},
   "outputs": [
    {
     "data": {
      "text/plain": [
       "4×1 Array{Int64,2}:\n",
       " 2\n",
       " 2\n",
       " 1\n",
       " 1"
      ]
     },
     "execution_count": 154,
     "metadata": {},
     "output_type": "execute_result"
    }
   ],
   "source": [
    "# setup our known model\n",
    "# D=3, K=2, M=4, T=5\n",
    "model_actual = Main.FHMMs.FHMM(3,4, \n",
    "    cat([ 0.1 0.2 0.1; 0.4 0.5 0.1; 0.2 0.5 0.1 ],\n",
    "    [ -0.25 1.3 0.1; 2.1 0.01 0.1; 5 0.65 0.1 ],\n",
    "    [ 0.5 -0.25 0.1; 0.75 0.1 0.1; 0.2 0.3 0.1 ],\n",
    "    [ 1 -1 0.1; 2 -2 0.1; 3 -3  0.1],\n",
    "    dims=3),\n",
    "    [ 0.1 0.7 0.4 0.15; 0.7 0.1 0.4 0.65; 0.2 0.2 0.2 0.2 ],\n",
    "cat([ 0.1 0.8 0.1; 0.4 0.4 0.2 ; 0.25 0.25 0.5],\n",
    "[ 0.2 0.4 0.4; 0.3 0.1 0.6; 0.15 0.15 0.7 ],\n",
    "[ 0.05 0.9 0.05; 0.1 0.6 0.3; 0.35 0.45 0.2  ],\n",
    "    [ 0.8 0.1 0.1; 0.1 0.1 0.8; 0.25 0.15 0.6 ], dims=3),\n",
    "Array{Float64}(Diagonal([1;1;1])))\n",
    "\n",
    "\n",
    "model = Main.FHMMs.FHMM(3,3,4)\n",
    "#lastX=zeros(3,2)\n",
    "first_X,first_states,first_theta = generate(model_actual, 1)\n",
    "first_states\n",
    "#decode(model_actual,first_X, first_theta)\n",
    "\n"
   ]
  },
  {
   "cell_type": "code",
   "execution_count": 157,
   "metadata": {},
   "outputs": [
    {
     "data": {
      "text/plain": [
       "4-element Array{Any,1}:\n",
       " [2]\n",
       " [1]\n",
       " [1]\n",
       " [1]"
      ]
     },
     "execution_count": 157,
     "metadata": {},
     "output_type": "execute_result"
    }
   ],
   "source": [
    "a,b,c = decode(model_actual,first_X, first_theta)\n",
    "#println(model_actual.π)\n",
    "#println(vf[:,:,1])\n",
    "#println(tmp1[:,:,1])\n",
    "a"
   ]
  },
  {
   "cell_type": "code",
   "execution_count": 144,
   "metadata": {},
   "outputs": [
    {
     "data": {
      "text/plain": [
       "3×4×2 Array{Float64,3}:\n",
       "[:, :, 1] =\n",
       " 0.00164005  0.377794    0.0036556   0.0454862\n",
       " 0.0275956   0.00132189  0.0122415   1.45554e-10\n",
       " 0.00241345  0.00241345  0.00241345  0.00241345\n",
       "\n",
       "[:, :, 2] =\n",
       " 0.0440692  8.43987e-6  0.0212311  0.00430435\n",
       " 0.0701673  0.0223162   0.062683   2.48656e-8\n",
       " 0.0223117  0.0428384   0.0160644  0.0584566"
      ]
     },
     "execution_count": 144,
     "metadata": {},
     "output_type": "execute_result"
    }
   ],
   "source": [
    "b"
   ]
  },
  {
   "cell_type": "code",
   "execution_count": 153,
   "metadata": {},
   "outputs": [
    {
     "data": {
      "text/plain": [
       "4×1 Array{Int64,2}:\n",
       " 2\n",
       " 2\n",
       " 1\n",
       " 1"
      ]
     },
     "execution_count": 153,
     "metadata": {},
     "output_type": "execute_result"
    }
   ],
   "source": [
    "model = Main.FHMMs.FHMM(3,3,4)\n",
    "#lastX=zeros(3,2)\n",
    "first_X,first_states,first_theta = generate(model_actual, 1)\n",
    "first_states\n",
    "#decode(model_actual,first_X, first_theta)\n",
    "\n"
   ]
  },
  {
   "cell_type": "code",
   "execution_count": null,
   "metadata": {},
   "outputs": [],
   "source": [
    "for i=1:10\n",
    "    X,states = generate(model_actual, 2)\n",
    "    result = Main.FHMMs.fit!(model,X,maxiter=100)    \n",
    "    println(decode(model,X,result.θ))\n",
    "    println(states)\n",
    "end"
   ]
  },
  {
   "cell_type": "code",
   "execution_count": null,
   "metadata": {},
   "outputs": [],
   "source": []
  },
  {
   "cell_type": "code",
   "execution_count": null,
   "metadata": {},
   "outputs": [],
   "source": [
    "states"
   ]
  },
  {
   "cell_type": "code",
   "execution_count": null,
   "metadata": {},
   "outputs": [],
   "source": [
    "\n",
    "C⁻¹ = model.C^-1\n",
    "\n",
    "# for every timestep\n",
    "    # for every state\n",
    "    # calculate likelihood of \n",
    "\n",
    "# P(observation_at_t1_0|S_at_t1_is_1)\n",
    "y_diff = [0.1; 0.1; 0.1] - sum(model.W[:,1,:], dims=2)\n",
    "p1 = det(model.C)^-0.5 * ((2 * pi) ^ (-D/2)) * exp(transpose(y_diff) * C⁻¹ * y_diff)\n",
    "println(p1)\n",
    "\n",
    "# P(observation_at_t1_0|S_at_t1_is_2)\n",
    "y_diff = [0.1; 0.1; 0.1] - sum(model.W[:,2,:], dims=2)\n",
    "p2 = det(model.C)^-0.5 * ((2 * pi) ^ (-D/2)) * exp(transpose(y_diff) * C⁻¹ * y_diff)\n",
    "println(p2)\n",
    "\n",
    "println(p2 / (p1 + p2))\n",
    "\n",
    "for t=1:T\n",
    "    ws = sum([fhmm.W[:,:,m]*θ[:,m,t] for m=1:fhmm.M])\n",
    "    tmp = (0.5*(Y[:,t] - ws)'*C⁻¹*(Y[:,t] - ws))\n",
    "    tmp_one = tmp[1]\n",
    "    likelihood -= tmp_one\n",
    "end\n",
    "\n",
    "for m=1:fhmm.M\n",
    "    likelihood += (θ[:,m,1]'log((fhmm.π[:,m] .+ ϵ)[1]))[1]\n",
    "end\n",
    "\n",
    "for t=2:T\n",
    "    for m=1:fhmm.M\n",
    "        likelihood += (θ[:,m,t]'logP[:,:,m]*θ[:,m,t-1])[1]\n",
    "    end\n",
    "end\n"
   ]
  }
 ],
 "metadata": {
  "kernelspec": {
   "display_name": "Julia 1.5.3",
   "language": "julia",
   "name": "julia-1.5"
  },
  "language_info": {
   "file_extension": ".jl",
   "mimetype": "application/julia",
   "name": "julia",
   "version": "1.5.3"
  }
 },
 "nbformat": 4,
 "nbformat_minor": 2
}
