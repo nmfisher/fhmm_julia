{
 "cells": [
  {
   "cell_type": "code",
   "execution_count": 6,
   "metadata": {},
   "outputs": [
    {
     "data": {
      "text/plain": [
       "3-element Array{Float64,1}:\n",
       " 0.8354053069372076\n",
       " 0.2816786255332524\n",
       " 0.20695380590534906"
      ]
     },
     "execution_count": 6,
     "metadata": {},
     "output_type": "execute_result"
    }
   ],
   "source": [
    "diag(rand(3,3))"
   ]
  },
  {
   "cell_type": "code",
   "execution_count": 31,
   "metadata": {},
   "outputs": [
    {
     "data": {
      "text/plain": [
       "\"Delta: -5.4752533240903665\""
      ]
     },
     "metadata": {},
     "output_type": "display_data"
    },
    {
     "data": {
      "text/plain": [
       "3×5×2 Array{Float64,3}:\n",
       "[:, :, 1] =\n",
       "  0.411404   0.338703  0.515495   0.190966   0.276234\n",
       "  0.721495   0.81861   0.661148   0.593799   0.744833\n",
       " -0.268544  -0.444232  0.216161  -0.468864  -0.482182\n",
       "\n",
       "[:, :, 2] =\n",
       " 0.389685  0.239556  0.530238  0.157207  0.230928\n",
       " 0.567246  0.559326  0.5936    0.377111  0.513321\n",
       " 0.400118  0.324     0.560598  0.196746  0.237252"
      ]
     },
     "metadata": {},
     "output_type": "display_data"
    },
    {
     "data": {
      "text/plain": [
       "\"Delta: 10.599133009569393\""
      ]
     },
     "metadata": {},
     "output_type": "display_data"
    },
    {
     "data": {
      "text/plain": [
       "3×5×2 Array{Float64,3}:\n",
       "[:, :, 1] =\n",
       " 0.520486   0.792858   0.418316   1.0279    0.73263\n",
       " 0.744273   0.838274   0.657368   0.896757  0.839521\n",
       " 0.0212595  0.479414  -0.0576494  1.13616   0.366889\n",
       "\n",
       "[:, :, 2] =\n",
       " 0.437454  0.857564  0.387055  1.20127   0.711488\n",
       " 0.630129  0.834087  0.544678  0.991834  0.824344\n",
       " 0.571188  0.759616  0.460099  0.953378  0.72245"
      ]
     },
     "metadata": {},
     "output_type": "display_data"
    },
    {
     "data": {
      "text/plain": [
       "\"Delta: -12.689101550309472\""
      ]
     },
     "metadata": {},
     "output_type": "display_data"
    },
    {
     "data": {
      "text/plain": [
       "3×5×2 Array{Float64,3}:\n",
       "[:, :, 1] =\n",
       "  0.360468   0.18333   0.589174   0.0238477   0.176416\n",
       "  0.681901   0.605349  0.710431   0.475512    0.603602\n",
       " -0.258519  -0.485358  0.34821   -0.584916   -0.483823\n",
       "\n",
       "[:, :, 2] =\n",
       " 0.285262  0.130112  0.584725  -0.0372785  0.108469\n",
       " 0.514397  0.377314  0.662549   0.215813   0.384661\n",
       " 0.395966  0.190946  0.635119   0.0314545  0.186853"
      ]
     },
     "metadata": {},
     "output_type": "display_data"
    },
    {
     "data": {
      "text/plain": [
       "\"Delta: 17.225495778984293\""
      ]
     },
     "metadata": {},
     "output_type": "display_data"
    },
    {
     "data": {
      "text/plain": [
       "3×5×2 Array{Float64,3}:\n",
       "[:, :, 1] =\n",
       " 0.567402   1.03415    0.334754  1.41809  0.869492\n",
       " 0.767443   0.939604   0.620155  1.00953  0.902988\n",
       " 0.0785073  0.904442  -0.204766  2.19215  0.57233\n",
       "\n",
       "[:, :, 2] =\n",
       " 0.496742  1.11788   0.297744  1.68633  0.864478\n",
       " 0.668394  1.0056    0.480118  1.23548  0.931282\n",
       " 0.60601   0.963331  0.373467  1.27385  0.830511"
      ]
     },
     "metadata": {},
     "output_type": "display_data"
    },
    {
     "data": {
      "text/plain": [
       "\"Delta: -18.382762348253127\""
      ]
     },
     "metadata": {},
     "output_type": "display_data"
    },
    {
     "data": {
      "text/plain": [
       "3×5×2 Array{Float64,3}:\n",
       "[:, :, 1] =\n",
       "  0.316775   0.0465224  0.735181  -0.0965938   0.0962725\n",
       "  0.659961   0.507054   0.756751   0.343064    0.547053\n",
       " -0.312907  -0.577399   0.744663  -0.628724   -0.543068\n",
       "\n",
       "[:, :, 2] =\n",
       " 0.238269  -0.0233248  0.748549  -0.17808    0.0211399\n",
       " 0.478521   0.240962   0.75961    0.0630525  0.303755\n",
       " 0.353556   0.0566108  0.781142  -0.0927385  0.109091"
      ]
     },
     "metadata": {},
     "output_type": "display_data"
    },
    {
     "name": "stderr",
     "output_type": "stream",
     "text": [
      "WARNING: replacing module FHMMs.\n"
     ]
    }
   ],
   "source": [
    "\n",
    "using StatsBase\n",
    "using LinearAlgebra\n",
    "using Distributions\n",
    "include(\"FHMMs.jl\")\n",
    "\n",
    "Y = rand(5,5)\n",
    "h = rand(3,5,2)\n",
    "test = Main.FHMMs.FHMM(5,3,2)\n",
    "for i in 1:5\n",
    "    h = Main.FHMMs.update_variational_parameters(test, h, Y)\n",
    "    display(h)\n",
    "end\n",
    "#test.W"
   ]
  },
  {
   "cell_type": "code",
   "execution_count": 8,
   "metadata": {},
   "outputs": [
    {
     "name": "stderr",
     "output_type": "stream",
     "text": [
      "WARNING: replacing module FHMMs.\n"
     ]
    },
    {
     "data": {
      "text/plain": [
       "generate (generic function with 3 methods)"
      ]
     },
     "execution_count": 8,
     "metadata": {},
     "output_type": "execute_result"
    }
   ],
   "source": [
    "\n",
    "\n",
    "function generate(model::Main.FHMMs.FHMM, timesteps::Int)\n",
    "    X = zeros(size(model.W)[1], timesteps)\n",
    "    # choose initial states based on π\n",
    "    states = zeros(Int64, model.M, timesteps)\n",
    "    for m=1:model.M\n",
    "        idx = sample(weights(model.π[:,m]))\n",
    "        states[m,1] = Int64(idx)\n",
    "    end\n",
    "    for t=1:timesteps    \n",
    "        mu = zeros(model.D)\n",
    "        for m=1:model.M\n",
    "            mu += model.W[:,states[m,t],m]\n",
    "        end\n",
    "        n = MvNormal(mu, model.C)\n",
    "        X[:,t] = rand(n)\n",
    "        if t < timesteps\n",
    "            for m=1:model.M\n",
    "                nsp = model.P[states[m,t],:,m]\n",
    "                #display(nsp)\n",
    "                smpl = sample(weights(nsp))\n",
    "                states[m,t+1] = smpl\n",
    "            end\n",
    "        end\n",
    "    end\n",
    "    return X,states\n",
    "end"
   ]
  },
  {
   "cell_type": "code",
   "execution_count": null,
   "metadata": {},
   "outputs": [],
   "source": [
    "function sample_states(model::Main.FHMMs.FHMM, timesteps::Int, iter=1000)\n",
    "    # we need to sample theta, KxMxT\n",
    "    # θ[1,1,2] represents the probabilities of chain (1) being in state (1) at time 2, \n",
    "    # θ[3,1,2] represents the probabilities of chain (1) being in state (3) at time 2, etc\n",
    "    # this is unconditional wrt the observation\n",
    "    theta_sampled = zeros(model.K,model.M, timesteps)\n",
    "    for i=1:iter\n",
    "        theta_iter = zeros(model.K,model.M,timesteps)\n",
    "        for m=1:model.M\n",
    "            s = sample(weights(model.π[:,m]))\n",
    "            theta_iter[s, m,1] += 1\n",
    "        end\n",
    "        for t=2:timesteps\n",
    "            for m=1:model_actual.M\n",
    "                lastState = findfirst((t) -> t == 1, theta_iter[:,m,t-1])\n",
    "                s = sample(weights(model.P[lastState,:,m]))\n",
    "                theta_iter[s,m,t] += 1\n",
    "            end\n",
    "        end\n",
    "        theta_sampled .+= theta_iter\n",
    "    end\n",
    "    theta_sampled ./= iter\n",
    "    return theta_sampled\n",
    "end\n"
   ]
  },
  {
   "cell_type": "code",
   "execution_count": null,
   "metadata": {},
   "outputs": [],
   "source": [
    "function get_state_combinations(M::Int, K::Int)\n",
    "    state_combinations = []\n",
    "    m = 1\n",
    "    stack = []\n",
    "    while(true)\n",
    "        if(m == M)\n",
    "            if(size(stack)[1] != M - 1)\n",
    "                break\n",
    "            end\n",
    "            for s=1:K\n",
    "                push!(stack, s)\n",
    "                push!(state_combinations, copy(stack))\n",
    "                pop!(stack)\n",
    "            end\n",
    "            stack[end] +=1\n",
    "            while(stack[end] > K)\n",
    "                pop!(stack)\n",
    "                if(size(stack)[1] == 0)\n",
    "                    break\n",
    "                end\n",
    "                stack[end] +=1\n",
    "                m -= 1\n",
    "            end\n",
    "        else\n",
    "            push!(stack, 1)\n",
    "            m += 1\n",
    "        end\n",
    "    end\n",
    "    return state_combinations\n",
    "end"
   ]
  },
  {
   "cell_type": "code",
   "execution_count": null,
   "metadata": {},
   "outputs": [],
   "source": [
    "# we want to calculate \n",
    "# P(Mt=St|Yt)\n",
    "# = P(Yt|Mt=St).P(Mt=St|Mt-1=St-1) / P(Yt)\n",
    "# This decoding is specific to the completely factorized VI model which uses a simplified P(Mt|Yt) that assumes \n",
    "# no dependence between timesteps. Viterbi decoding is therefore not required, since we don't need to find the max sequence,\n",
    "# we just take the max P at each timestep.\n",
    "# even though each chain is independent but the observation is conditional on *all* chains \n",
    "# this is because Yt is a sum of M1,M2,M3...\n",
    "# i.e. P(Yt|M1t=S1t,M2t=.., M3t=..) != P(Yt|M1t=S1t)\n",
    "# but we have θ, which is an estimation of P(M1t=S1t), P(M1t=S2t)...P(Mmt=Sst)\n",
    "# so we need to find all configurations of M/S at this t\n",
    "# cross product of (M1xS)x(M2xS)x..x(MkxS)\n",
    "# if we are using the variational inference model, θ is KxMxT\n",
    "# θ[1,1,2] represents p(chain (1) in state (1) at time 2) \n",
    "# θ[3,1,2] represents p(chain (1) in state (3) at time 2), etc\n",
    "# this is unconditional wrt the observation\n",
    "# i.e. P(Mt=St|M(t-1)=S(t-1))\n",
    "# therefore P(Mt=St) is the product over dim(1) at T\n",
    "function decode(model::Main.FHMMs.FHMM, X::Array{Float64,2}, θ::Array{Float64,3})\n",
    "    \n",
    "    D=size(X)[1]\n",
    "    timesteps=size(X)[2]\n",
    "    \n",
    "    states = zeros(model.M,timesteps)\n",
    "    for t=1:timesteps\n",
    "        pmax = -1\n",
    "        mmax = []\n",
    "        stack = []\n",
    "        m = 1\n",
    "        M = model.M\n",
    "        K = model.K\n",
    "        while(true)\n",
    "            if(m == M)\n",
    "                if(size(stack)[1] != M - 1)\n",
    "                    break\n",
    "                end\n",
    "                for s=1:K\n",
    "                    push!(stack, s)\n",
    "                    mu = zeros(D)\n",
    "                    for i=1:M\n",
    "                        mu += model.W[:, stack[i], i]\n",
    "                    end\n",
    "                    \n",
    "                    p_yt_given_mt_in_s = pdf(MvNormal(mu, Array{Float64,2}(Hermitian(Symmetric(model.C)))), X[:,t])\n",
    "                    p_mt_in_s = reduce(*, θ[stack,:,t])\n",
    "                    unnormalized = p_yt_given_mt_in_s * p_mt_in_s\n",
    "                    if unnormalized > pmax\n",
    "                        pmax = unnormalized\n",
    "                        mmax = copy(stack)\n",
    "                    end\n",
    "                    pop!(stack)\n",
    "                end\n",
    "                stack[end] +=1\n",
    "                while(stack[end] > K)\n",
    "                    pop!(stack)\n",
    "                    if(size(stack)[1] == 0)\n",
    "                        break\n",
    "                    end\n",
    "                    stack[end] +=1\n",
    "                    m -= 1\n",
    "                end\n",
    "            else\n",
    "                push!(stack, 1)\n",
    "                m += 1\n",
    "            end\n",
    "        end\n",
    "        states[:,t] = mmax\n",
    "    end\n",
    "    return states\n",
    "end"
   ]
  },
  {
   "cell_type": "code",
   "execution_count": null,
   "metadata": {},
   "outputs": [],
   "source": [
    "function decode_full(model::Main.FHMMs.FHMM, X::Array{Float64,2})\n",
    "    D=size(X)[1]\n",
    "    timesteps=size(X)[2]\n",
    "    state_combinations = get_state_combinations(model.M, model.K)\n",
    "    state_probabilities = zeros(size(state_combinations)[1],timesteps)\n",
    "    \n",
    "    M = model.M\n",
    "    K = model.K\n",
    "    logP = log.(model.P)\n",
    "    for t=1:timesteps\n",
    "        for s_index=1:size(state_combinations)[1]\n",
    "            state = state_combinations[s_index]\n",
    "            mu = zeros(D)\n",
    "            for i=1:model.M\n",
    "                mu += model.W[:, state[i], i]\n",
    "            end\n",
    "            p_yt_given_mt_in_s = pdf(MvNormal(mu, Array{Float64,2}(Hermitian(Symmetric(model.C)))), X[:,t])\n",
    "                   \n",
    "            if(t == 1)\n",
    "               p_mt_in_s = reduce(*, model.π[[CartesianIndex(state[i], i)  for i=1:model.M]])\n",
    "            else\n",
    "                # calculate the probability that chain M is in state K, P(Mt)\n",
    "                # this is P(Mt|Mt-1, Yt), so P(Mt-1|Yt) * P(Mt|Mt-1)\n",
    "                # P(Mt-1|Yt) is sum over K\n",
    "                p_mt_in_s = 0\n",
    "                for sc_last_index=1:size(state_combinations)[1]\n",
    "                    sc_last = state_combinations[sc_last_index]\n",
    "                    for m_last=1:M\n",
    "                        for m_this=1:M\n",
    "                            p_mt_in_s += exp(\n",
    "                                state_probabilities[sc_last_index,t-1] + \n",
    "                                logP[sc_last[m_this], state[m_this], m_this])\n",
    "                        end\n",
    "                    end\n",
    "                end\n",
    "            end\n",
    "            state_probabilities[s_index,t] = log(p_yt_given_mt_in_s) +  log(p_mt_in_s)\n",
    "         end\n",
    "    end\n",
    "    max_probs = zeros(M, timesteps)\n",
    "    i = 1\n",
    "    for p in argmax(state_probabilities, dims=1)\n",
    "        max_probs[:, p[2]] = state_combinations[p[1]]\n",
    "        i += 1\n",
    "    end\n",
    "    return max_probs\n",
    "end\n",
    "\n",
    "#X, actual = generate(model_actual, 2)\n",
    "#decoded = decode_full(model_actual,X)\n",
    "#actual .== decoded"
   ]
  },
  {
   "cell_type": "code",
   "execution_count": null,
   "metadata": {},
   "outputs": [],
   "source": [
    "# setup our known model\n",
    "# \n",
    "D=15\n",
    "K=3\n",
    "M=2\n",
    "#T=5\n",
    "W=cat( [ 1.0 49.0; -1.0 -49.0 ],[ 1.0 49.0; -1.0 -49.0 ], [ 1.0 49.0; -1.0 -49.0 ], dims=3)\n",
    "π = [ 0.35 0.25 0.95; 0.65 0.75 0.05; ]\n",
    "P = cat([ 0.3 0.7 ; 0.2 0.8 ; ],\n",
    "    [ 0.5 0.5 ; 0.4 0.6 ;  ],\n",
    "    [ 0.75 0.25 ; 0.89 0.11 ; ], dims=3)\n",
    "W = rand(D,K,M)\n",
    "π = rand(K,M)\n",
    "π ./= sum(π,dims=(1))\n",
    "P = rand(K, K, M)\n",
    "P ./= sum(P, dims=2)\n",
    "#C = rand(D,D)\n",
    "C = Array{Float64}(Diagonal([0.1 for x in 1:D]))\n",
    "model_actual = Main.FHMMs.FHMM(D,K,M,\n",
    "    W, π, P, C)\n",
    "\n",
    "X, actual = generate(model_actual, 4)\n",
    "\n"
   ]
  },
  {
   "cell_type": "code",
   "execution_count": null,
   "metadata": {},
   "outputs": [],
   "source": [
    "model_learn = Main.FHMMs.FHMM(D,K,M)\n",
    "result = Main.FHMMs.fit_sv!(model_learn,X,maxiter=5000,verbose=true)    "
   ]
  },
  {
   "cell_type": "code",
   "execution_count": null,
   "metadata": {},
   "outputs": [],
   "source": [
    "result.γ"
   ]
  },
  {
   "cell_type": "code",
   "execution_count": null,
   "metadata": {},
   "outputs": [],
   "source": [
    "actual"
   ]
  },
  {
   "cell_type": "code",
   "execution_count": null,
   "metadata": {},
   "outputs": [],
   "source": [
    "timesteps=10\n",
    "num_observations = 100\n",
    "\n",
    "theta_sampled = sample_states(model_actual, timesteps, 1000)\n",
    "j = 0\n",
    "for i in 1:num_observations\n",
    "    X,actual_states = generate(model_actual, timesteps)\n",
    "    estimated_states = decode(model_actual,X, theta_sampled)\n",
    "    j += sum(actual_states .== estimated_states)\n",
    "end\n",
    "j / (num_observations * timesteps * model_actual.M)"
   ]
  },
  {
   "cell_type": "code",
   "execution_count": null,
   "metadata": {},
   "outputs": [],
   "source": [
    "j = 0\n",
    "for i in 1:num_observations\n",
    "    X,actual_states = generate(model_actual, timesteps)\n",
    "    estimated_states = decode_full(model_actual,X)\n",
    "    j += sum(actual_states .== estimated_states)\n",
    "end\n",
    "j / (num_observations * timesteps * model_actual.M)"
   ]
  },
  {
   "cell_type": "code",
   "execution_count": null,
   "metadata": {},
   "outputs": [],
   "source": [
    "model_learn = Main.FHMMs.FHMM(D,K,M)\n",
    "j = 0\n",
    "num_observations = 50\n",
    "for i=1:num_observations\n",
    "    X,actual_states = generate(model_actual, timesteps)\n",
    "    \n",
    "    result = Main.FHMMs.fit!(model_learn,X,maxiter=100)    \n",
    "    \n",
    "    estimated_states = decode_full(model_learn,X)\n",
    "    j += sum(actual_states .== estimated_states)\n",
    "end\n",
    "j / (num_observations * timesteps * model_actual.M)"
   ]
  },
  {
   "cell_type": "code",
   "execution_count": null,
   "metadata": {},
   "outputs": [],
   "source": [
    "timesteps=10\n",
    "model_learn = Main.FHMMs.FHMM(D,K,M)\n",
    "j = 0\n",
    "num_observations = 100\n",
    "for i=1:num_observations\n",
    "    X,actual_states = generate(model_actual, timesteps)\n",
    "    result = Main.FHMMs.fit!(model_learn,X,maxiter=100,fzero=true)    \n",
    "    for i in 1:D\n",
    "        model_learn.C[i, i] += 0.0001\n",
    "    end\n",
    "    #println(cholesky(Hermitian(Symmetric(model_learn.C))))\n",
    "    estimated_states = decode(model_learn,X, result.θ)\n",
    "    j += sum(actual_states .== estimated_states)\n",
    "    println(j / (i * timesteps * model_actual.M))\n",
    "end\n",
    "j / (num_observations * timesteps * model_actual.M)"
   ]
  },
  {
   "cell_type": "code",
   "execution_count": null,
   "metadata": {},
   "outputs": [],
   "source": []
  }
 ],
 "metadata": {
  "kernelspec": {
   "display_name": "Julia 1.5.3",
   "language": "julia",
   "name": "julia-1.5"
  },
  "language_info": {
   "file_extension": ".jl",
   "mimetype": "application/julia",
   "name": "julia",
   "version": "1.5.3"
  }
 },
 "nbformat": 4,
 "nbformat_minor": 2
}
