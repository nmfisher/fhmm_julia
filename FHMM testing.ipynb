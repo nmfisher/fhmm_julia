{
 "cells": [
  {
   "cell_type": "code",
   "execution_count": 2,
   "metadata": {},
   "outputs": [
    {
     "name": "stderr",
     "output_type": "stream",
     "text": [
      "┌ Warning: thread = 1 warning: only found 1351 / 1451 columns around data row: 2. Filling remaining columns with `missing`\n",
      "└ @ CSV C:\\Users\\nickh\\.julia\\packages\\CSV\\YUbbG\\src\\file.jl:603\n",
      "┌ Warning: thread = 1 warning: only found 1351 / 1451 columns around data row: 3. Filling remaining columns with `missing`\n",
      "└ @ CSV C:\\Users\\nickh\\.julia\\packages\\CSV\\YUbbG\\src\\file.jl:603\n",
      "┌ Warning: thread = 1 warning: only found 1351 / 1451 columns around data row: 4. Filling remaining columns with `missing`\n",
      "└ @ CSV C:\\Users\\nickh\\.julia\\packages\\CSV\\YUbbG\\src\\file.jl:603\n",
      "┌ Warning: thread = 1 warning: only found 1351 / 1451 columns around data row: 5. Filling remaining columns with `missing`\n",
      "└ @ CSV C:\\Users\\nickh\\.julia\\packages\\CSV\\YUbbG\\src\\file.jl:603\n",
      "┌ Warning: thread = 1 warning: only found 1301 / 1451 columns around data row: 6. Filling remaining columns with `missing`\n",
      "└ @ CSV C:\\Users\\nickh\\.julia\\packages\\CSV\\YUbbG\\src\\file.jl:603\n",
      "┌ Warning: thread = 1 warning: only found 1301 / 1451 columns around data row: 7. Filling remaining columns with `missing`\n",
      "└ @ CSV C:\\Users\\nickh\\.julia\\packages\\CSV\\YUbbG\\src\\file.jl:603\n",
      "┌ Warning: thread = 1 warning: only found 1301 / 1451 columns around data row: 8. Filling remaining columns with `missing`\n",
      "└ @ CSV C:\\Users\\nickh\\.julia\\packages\\CSV\\YUbbG\\src\\file.jl:603\n",
      "┌ Warning: thread = 1 warning: only found 1301 / 1451 columns around data row: 9. Filling remaining columns with `missing`\n",
      "└ @ CSV C:\\Users\\nickh\\.julia\\packages\\CSV\\YUbbG\\src\\file.jl:603\n",
      "┌ Warning: thread = 1 warning: only found 1251 / 1451 columns around data row: 10. Filling remaining columns with `missing`\n",
      "└ @ CSV C:\\Users\\nickh\\.julia\\packages\\CSV\\YUbbG\\src\\file.jl:603\n",
      "┌ Warning: thread = 1 warning: only found 1251 / 1451 columns around data row: 11. Filling remaining columns with `missing`\n",
      "└ @ CSV C:\\Users\\nickh\\.julia\\packages\\CSV\\YUbbG\\src\\file.jl:603\n",
      "┌ Warning: thread = 1 warning: only found 1251 / 1451 columns around data row: 12. Filling remaining columns with `missing`\n",
      "└ @ CSV C:\\Users\\nickh\\.julia\\packages\\CSV\\YUbbG\\src\\file.jl:603\n",
      "┌ Warning: thread = 1 warning: only found 1251 / 1451 columns around data row: 13. Filling remaining columns with `missing`\n",
      "└ @ CSV C:\\Users\\nickh\\.julia\\packages\\CSV\\YUbbG\\src\\file.jl:603\n",
      "┌ Warning: thread = 1 warning: only found 1201 / 1451 columns around data row: 14. Filling remaining columns with `missing`\n",
      "└ @ CSV C:\\Users\\nickh\\.julia\\packages\\CSV\\YUbbG\\src\\file.jl:603\n",
      "┌ Warning: thread = 1 warning: only found 1201 / 1451 columns around data row: 15. Filling remaining columns with `missing`\n",
      "└ @ CSV C:\\Users\\nickh\\.julia\\packages\\CSV\\YUbbG\\src\\file.jl:603\n",
      "┌ Warning: thread = 1 warning: only found 1201 / 1451 columns around data row: 16. Filling remaining columns with `missing`\n",
      "└ @ CSV C:\\Users\\nickh\\.julia\\packages\\CSV\\YUbbG\\src\\file.jl:603\n",
      "┌ Warning: thread = 1 warning: only found 1201 / 1451 columns around data row: 17. Filling remaining columns with `missing`\n",
      "└ @ CSV C:\\Users\\nickh\\.julia\\packages\\CSV\\YUbbG\\src\\file.jl:603\n",
      "┌ Warning: thread = 1 warning: only found 1201 / 1451 columns around data row: 18. Filling remaining columns with `missing`\n",
      "└ @ CSV C:\\Users\\nickh\\.julia\\packages\\CSV\\YUbbG\\src\\file.jl:603\n",
      "┌ Warning: thread = 1 warning: only found 1201 / 1451 columns around data row: 19. Filling remaining columns with `missing`\n",
      "└ @ CSV C:\\Users\\nickh\\.julia\\packages\\CSV\\YUbbG\\src\\file.jl:603\n",
      "┌ Warning: thread = 1 warning: only found 1201 / 1451 columns around data row: 20. Filling remaining columns with `missing`\n",
      "└ @ CSV C:\\Users\\nickh\\.julia\\packages\\CSV\\YUbbG\\src\\file.jl:603\n",
      "┌ Warning: thread = 1 warning: only found 1201 / 1451 columns around data row: 21. Filling remaining columns with `missing`\n",
      "└ @ CSV C:\\Users\\nickh\\.julia\\packages\\CSV\\YUbbG\\src\\file.jl:603\n",
      "┌ Warning: thread = 1 warning: only found 1201 / 1451 columns around data row: 22. Filling remaining columns with `missing`\n",
      "└ @ CSV C:\\Users\\nickh\\.julia\\packages\\CSV\\YUbbG\\src\\file.jl:603\n",
      "┌ Warning: thread = 1 warning: only found 1151 / 1451 columns around data row: 23. Filling remaining columns with `missing`\n",
      "└ @ CSV C:\\Users\\nickh\\.julia\\packages\\CSV\\YUbbG\\src\\file.jl:603\n",
      "┌ Warning: thread = 1 warning: only found 1151 / 1451 columns around data row: 24. Filling remaining columns with `missing`\n",
      "└ @ CSV C:\\Users\\nickh\\.julia\\packages\\CSV\\YUbbG\\src\\file.jl:603\n",
      "┌ Warning: thread = 1 warning: only found 1151 / 1451 columns around data row: 25. Filling remaining columns with `missing`\n",
      "└ @ CSV C:\\Users\\nickh\\.julia\\packages\\CSV\\YUbbG\\src\\file.jl:603\n",
      "┌ Warning: thread = 1 warning: only found 1151 / 1451 columns around data row: 26. Filling remaining columns with `missing`\n",
      "└ @ CSV C:\\Users\\nickh\\.julia\\packages\\CSV\\YUbbG\\src\\file.jl:603\n",
      "┌ Warning: thread = 1 warning: only found 1151 / 1451 columns around data row: 27. Filling remaining columns with `missing`\n",
      "└ @ CSV C:\\Users\\nickh\\.julia\\packages\\CSV\\YUbbG\\src\\file.jl:603\n",
      "┌ Warning: thread = 1 warning: only found 1151 / 1451 columns around data row: 28. Filling remaining columns with `missing`\n",
      "└ @ CSV C:\\Users\\nickh\\.julia\\packages\\CSV\\YUbbG\\src\\file.jl:603\n",
      "┌ Warning: thread = 1 warning: only found 1151 / 1451 columns around data row: 29. Filling remaining columns with `missing`\n",
      "└ @ CSV C:\\Users\\nickh\\.julia\\packages\\CSV\\YUbbG\\src\\file.jl:603\n",
      "┌ Warning: thread = 1 warning: only found 1151 / 1451 columns around data row: 30. Filling remaining columns with `missing`\n",
      "└ @ CSV C:\\Users\\nickh\\.julia\\packages\\CSV\\YUbbG\\src\\file.jl:603\n",
      "┌ Warning: thread = 1 warning: only found 1151 / 1451 columns around data row: 31. Filling remaining columns with `missing`\n",
      "└ @ CSV C:\\Users\\nickh\\.julia\\packages\\CSV\\YUbbG\\src\\file.jl:603\n",
      "┌ Warning: thread = 1 warning: only found 1151 / 1451 columns around data row: 32. Filling remaining columns with `missing`\n",
      "└ @ CSV C:\\Users\\nickh\\.julia\\packages\\CSV\\YUbbG\\src\\file.jl:603\n",
      "┌ Warning: thread = 1 warning: only found 1151 / 1451 columns around data row: 33. Filling remaining columns with `missing`\n",
      "└ @ CSV C:\\Users\\nickh\\.julia\\packages\\CSV\\YUbbG\\src\\file.jl:603\n",
      "┌ Warning: thread = 1 warning: only found 1101 / 1451 columns around data row: 34. Filling remaining columns with `missing`\n",
      "└ @ CSV C:\\Users\\nickh\\.julia\\packages\\CSV\\YUbbG\\src\\file.jl:603\n",
      "┌ Warning: thread = 1 warning: only found 1101 / 1451 columns around data row: 35. Filling remaining columns with `missing`\n",
      "└ @ CSV C:\\Users\\nickh\\.julia\\packages\\CSV\\YUbbG\\src\\file.jl:603\n",
      "┌ Warning: thread = 1 warning: only found 1101 / 1451 columns around data row: 36. Filling remaining columns with `missing`\n",
      "└ @ CSV C:\\Users\\nickh\\.julia\\packages\\CSV\\YUbbG\\src\\file.jl:603\n",
      "┌ Warning: thread = 1 warning: only found 1101 / 1451 columns around data row: 37. Filling remaining columns with `missing`\n",
      "└ @ CSV C:\\Users\\nickh\\.julia\\packages\\CSV\\YUbbG\\src\\file.jl:603\n",
      "┌ Warning: thread = 1 warning: only found 1101 / 1451 columns around data row: 38. Filling remaining columns with `missing`\n",
      "└ @ CSV C:\\Users\\nickh\\.julia\\packages\\CSV\\YUbbG\\src\\file.jl:603\n",
      "┌ Warning: thread = 1 warning: only found 1101 / 1451 columns around data row: 39. Filling remaining columns with `missing`\n",
      "└ @ CSV C:\\Users\\nickh\\.julia\\packages\\CSV\\YUbbG\\src\\file.jl:603\n",
      "┌ Warning: thread = 1 warning: only found 1101 / 1451 columns around data row: 40. Filling remaining columns with `missing`\n",
      "└ @ CSV C:\\Users\\nickh\\.julia\\packages\\CSV\\YUbbG\\src\\file.jl:603\n",
      "┌ Warning: thread = 1 warning: only found 1101 / 1451 columns around data row: 41. Filling remaining columns with `missing`\n",
      "└ @ CSV C:\\Users\\nickh\\.julia\\packages\\CSV\\YUbbG\\src\\file.jl:603\n",
      "┌ Warning: thread = 1 warning: only found 1101 / 1451 columns around data row: 42. Filling remaining columns with `missing`\n",
      "└ @ CSV C:\\Users\\nickh\\.julia\\packages\\CSV\\YUbbG\\src\\file.jl:603\n",
      "┌ Warning: thread = 1 warning: only found 1101 / 1451 columns around data row: 43. Filling remaining columns with `missing`\n",
      "└ @ CSV C:\\Users\\nickh\\.julia\\packages\\CSV\\YUbbG\\src\\file.jl:603\n",
      "┌ Warning: thread = 1 warning: only found 1101 / 1451 columns around data row: 44. Filling remaining columns with `missing`\n",
      "└ @ CSV C:\\Users\\nickh\\.julia\\packages\\CSV\\YUbbG\\src\\file.jl:603\n",
      "┌ Warning: thread = 1 warning: only found 1101 / 1451 columns around data row: 45. Filling remaining columns with `missing`\n",
      "└ @ CSV C:\\Users\\nickh\\.julia\\packages\\CSV\\YUbbG\\src\\file.jl:603\n",
      "┌ Warning: thread = 1 warning: only found 1101 / 1451 columns around data row: 46. Filling remaining columns with `missing`\n",
      "└ @ CSV C:\\Users\\nickh\\.julia\\packages\\CSV\\YUbbG\\src\\file.jl:603\n",
      "┌ Warning: thread = 1 warning: only found 1101 / 1451 columns around data row: 47. Filling remaining columns with `missing`\n",
      "└ @ CSV C:\\Users\\nickh\\.julia\\packages\\CSV\\YUbbG\\src\\file.jl:603\n",
      "┌ Warning: thread = 1 warning: only found 1101 / 1451 columns around data row: 48. Filling remaining columns with `missing`\n",
      "└ @ CSV C:\\Users\\nickh\\.julia\\packages\\CSV\\YUbbG\\src\\file.jl:603\n",
      "┌ Warning: thread = 1 warning: only found 1101 / 1451 columns around data row: 49. Filling remaining columns with `missing`\n",
      "└ @ CSV C:\\Users\\nickh\\.julia\\packages\\CSV\\YUbbG\\src\\file.jl:603\n",
      "┌ Warning: thread = 1 warning: only found 1101 / 1451 columns around data row: 50. Filling remaining columns with `missing`\n",
      "└ @ CSV C:\\Users\\nickh\\.julia\\packages\\CSV\\YUbbG\\src\\file.jl:603\n",
      "┌ Warning: thread = 1 warning: only found 1101 / 1451 columns around data row: 51. Filling remaining columns with `missing`\n",
      "└ @ CSV C:\\Users\\nickh\\.julia\\packages\\CSV\\YUbbG\\src\\file.jl:603\n",
      "┌ Warning: thread = 1 warning: only found 1101 / 1451 columns around data row: 52. Filling remaining columns with `missing`\n",
      "└ @ CSV C:\\Users\\nickh\\.julia\\packages\\CSV\\YUbbG\\src\\file.jl:603\n",
      "┌ Warning: thread = 1 warning: only found 1101 / 1451 columns around data row: 53. Filling remaining columns with `missing`\n",
      "└ @ CSV C:\\Users\\nickh\\.julia\\packages\\CSV\\YUbbG\\src\\file.jl:603\n",
      "┌ Warning: thread = 1 warning: only found 1101 / 1451 columns around data row: 54. Filling remaining columns with `missing`\n",
      "└ @ CSV C:\\Users\\nickh\\.julia\\packages\\CSV\\YUbbG\\src\\file.jl:603\n",
      "┌ Warning: thread = 1 warning: only found 1051 / 1451 columns around data row: 55. Filling remaining columns with `missing`\n",
      "└ @ CSV C:\\Users\\nickh\\.julia\\packages\\CSV\\YUbbG\\src\\file.jl:603\n"
     ]
    },
    {
     "name": "stderr",
     "output_type": "stream",
     "text": [
      "┌ Warning: thread = 1 warning: only found 1051 / 1451 columns around data row: 56. Filling remaining columns with `missing`\n",
      "└ @ CSV C:\\Users\\nickh\\.julia\\packages\\CSV\\YUbbG\\src\\file.jl:603\n",
      "┌ Warning: thread = 1 warning: only found 1051 / 1451 columns around data row: 57. Filling remaining columns with `missing`\n",
      "└ @ CSV C:\\Users\\nickh\\.julia\\packages\\CSV\\YUbbG\\src\\file.jl:603\n",
      "┌ Warning: thread = 1 warning: only found 1051 / 1451 columns around data row: 58. Filling remaining columns with `missing`\n",
      "└ @ CSV C:\\Users\\nickh\\.julia\\packages\\CSV\\YUbbG\\src\\file.jl:603\n",
      "┌ Warning: thread = 1 warning: only found 1051 / 1451 columns around data row: 59. Filling remaining columns with `missing`\n",
      "└ @ CSV C:\\Users\\nickh\\.julia\\packages\\CSV\\YUbbG\\src\\file.jl:603\n",
      "┌ Warning: thread = 1 warning: only found 1051 / 1451 columns around data row: 60. Filling remaining columns with `missing`\n",
      "└ @ CSV C:\\Users\\nickh\\.julia\\packages\\CSV\\YUbbG\\src\\file.jl:603\n",
      "┌ Warning: thread = 1 warning: only found 1051 / 1451 columns around data row: 61. Filling remaining columns with `missing`\n",
      "└ @ CSV C:\\Users\\nickh\\.julia\\packages\\CSV\\YUbbG\\src\\file.jl:603\n",
      "┌ Warning: thread = 1 warning: only found 1051 / 1451 columns around data row: 62. Filling remaining columns with `missing`\n",
      "└ @ CSV C:\\Users\\nickh\\.julia\\packages\\CSV\\YUbbG\\src\\file.jl:603\n",
      "┌ Warning: thread = 1 warning: only found 1051 / 1451 columns around data row: 63. Filling remaining columns with `missing`\n",
      "└ @ CSV C:\\Users\\nickh\\.julia\\packages\\CSV\\YUbbG\\src\\file.jl:603\n",
      "┌ Warning: thread = 1 warning: only found 1051 / 1451 columns around data row: 64. Filling remaining columns with `missing`\n",
      "└ @ CSV C:\\Users\\nickh\\.julia\\packages\\CSV\\YUbbG\\src\\file.jl:603\n",
      "┌ Warning: thread = 1 warning: only found 1051 / 1451 columns around data row: 65. Filling remaining columns with `missing`\n",
      "└ @ CSV C:\\Users\\nickh\\.julia\\packages\\CSV\\YUbbG\\src\\file.jl:603\n",
      "┌ Warning: thread = 1 warning: only found 1051 / 1451 columns around data row: 66. Filling remaining columns with `missing`\n",
      "└ @ CSV C:\\Users\\nickh\\.julia\\packages\\CSV\\YUbbG\\src\\file.jl:603\n",
      "┌ Warning: thread = 1 warning: only found 1051 / 1451 columns around data row: 67. Filling remaining columns with `missing`\n",
      "└ @ CSV C:\\Users\\nickh\\.julia\\packages\\CSV\\YUbbG\\src\\file.jl:603\n",
      "┌ Warning: thread = 1 warning: only found 1051 / 1451 columns around data row: 68. Filling remaining columns with `missing`\n",
      "└ @ CSV C:\\Users\\nickh\\.julia\\packages\\CSV\\YUbbG\\src\\file.jl:603\n",
      "┌ Warning: thread = 1 warning: only found 1051 / 1451 columns around data row: 69. Filling remaining columns with `missing`\n",
      "└ @ CSV C:\\Users\\nickh\\.julia\\packages\\CSV\\YUbbG\\src\\file.jl:603\n",
      "┌ Warning: thread = 1 warning: only found 1051 / 1451 columns around data row: 70. Filling remaining columns with `missing`\n",
      "└ @ CSV C:\\Users\\nickh\\.julia\\packages\\CSV\\YUbbG\\src\\file.jl:603\n",
      "┌ Warning: thread = 1 warning: only found 1051 / 1451 columns around data row: 71. Filling remaining columns with `missing`\n",
      "└ @ CSV C:\\Users\\nickh\\.julia\\packages\\CSV\\YUbbG\\src\\file.jl:603\n",
      "┌ Warning: thread = 1 warning: only found 1051 / 1451 columns around data row: 72. Filling remaining columns with `missing`\n",
      "└ @ CSV C:\\Users\\nickh\\.julia\\packages\\CSV\\YUbbG\\src\\file.jl:603\n",
      "┌ Warning: thread = 1 warning: only found 1051 / 1451 columns around data row: 73. Filling remaining columns with `missing`\n",
      "└ @ CSV C:\\Users\\nickh\\.julia\\packages\\CSV\\YUbbG\\src\\file.jl:603\n",
      "┌ Warning: thread = 1 warning: only found 1051 / 1451 columns around data row: 74. Filling remaining columns with `missing`\n",
      "└ @ CSV C:\\Users\\nickh\\.julia\\packages\\CSV\\YUbbG\\src\\file.jl:603\n",
      "┌ Warning: thread = 1 warning: only found 1051 / 1451 columns around data row: 75. Filling remaining columns with `missing`\n",
      "└ @ CSV C:\\Users\\nickh\\.julia\\packages\\CSV\\YUbbG\\src\\file.jl:603\n",
      "┌ Warning: thread = 1 warning: only found 1051 / 1451 columns around data row: 76. Filling remaining columns with `missing`\n",
      "└ @ CSV C:\\Users\\nickh\\.julia\\packages\\CSV\\YUbbG\\src\\file.jl:603\n",
      "┌ Warning: thread = 1 warning: only found 1051 / 1451 columns around data row: 77. Filling remaining columns with `missing`\n",
      "└ @ CSV C:\\Users\\nickh\\.julia\\packages\\CSV\\YUbbG\\src\\file.jl:603\n",
      "┌ Warning: thread = 1 warning: only found 1051 / 1451 columns around data row: 78. Filling remaining columns with `missing`\n",
      "└ @ CSV C:\\Users\\nickh\\.julia\\packages\\CSV\\YUbbG\\src\\file.jl:603\n",
      "┌ Warning: thread = 1 warning: only found 1001 / 1451 columns around data row: 79. Filling remaining columns with `missing`\n",
      "└ @ CSV C:\\Users\\nickh\\.julia\\packages\\CSV\\YUbbG\\src\\file.jl:603\n",
      "┌ Warning: thread = 1 warning: only found 1001 / 1451 columns around data row: 80. Filling remaining columns with `missing`\n",
      "└ @ CSV C:\\Users\\nickh\\.julia\\packages\\CSV\\YUbbG\\src\\file.jl:603\n",
      "┌ Warning: thread = 1 warning: only found 1001 / 1451 columns around data row: 81. Filling remaining columns with `missing`\n",
      "└ @ CSV C:\\Users\\nickh\\.julia\\packages\\CSV\\YUbbG\\src\\file.jl:603\n",
      "┌ Warning: thread = 1 warning: only found 1001 / 1451 columns around data row: 82. Filling remaining columns with `missing`\n",
      "└ @ CSV C:\\Users\\nickh\\.julia\\packages\\CSV\\YUbbG\\src\\file.jl:603\n",
      "┌ Warning: thread = 1 warning: only found 1001 / 1451 columns around data row: 83. Filling remaining columns with `missing`\n",
      "└ @ CSV C:\\Users\\nickh\\.julia\\packages\\CSV\\YUbbG\\src\\file.jl:603\n",
      "┌ Warning: thread = 1 warning: only found 1001 / 1451 columns around data row: 84. Filling remaining columns with `missing`\n",
      "└ @ CSV C:\\Users\\nickh\\.julia\\packages\\CSV\\YUbbG\\src\\file.jl:603\n",
      "┌ Warning: thread = 1 warning: only found 1001 / 1451 columns around data row: 85. Filling remaining columns with `missing`\n",
      "└ @ CSV C:\\Users\\nickh\\.julia\\packages\\CSV\\YUbbG\\src\\file.jl:603\n",
      "┌ Warning: thread = 1 warning: only found 1001 / 1451 columns around data row: 86. Filling remaining columns with `missing`\n",
      "└ @ CSV C:\\Users\\nickh\\.julia\\packages\\CSV\\YUbbG\\src\\file.jl:603\n",
      "┌ Warning: thread = 1 warning: only found 1001 / 1451 columns around data row: 87. Filling remaining columns with `missing`\n",
      "└ @ CSV C:\\Users\\nickh\\.julia\\packages\\CSV\\YUbbG\\src\\file.jl:603\n",
      "┌ Warning: thread = 1 warning: only found 1001 / 1451 columns around data row: 88. Filling remaining columns with `missing`\n",
      "└ @ CSV C:\\Users\\nickh\\.julia\\packages\\CSV\\YUbbG\\src\\file.jl:603\n",
      "┌ Warning: thread = 1 warning: only found 1001 / 1451 columns around data row: 89. Filling remaining columns with `missing`\n",
      "└ @ CSV C:\\Users\\nickh\\.julia\\packages\\CSV\\YUbbG\\src\\file.jl:603\n",
      "┌ Warning: thread = 1 warning: only found 1001 / 1451 columns around data row: 90. Filling remaining columns with `missing`\n",
      "└ @ CSV C:\\Users\\nickh\\.julia\\packages\\CSV\\YUbbG\\src\\file.jl:603\n",
      "┌ Warning: thread = 1 warning: only found 1001 / 1451 columns around data row: 91. Filling remaining columns with `missing`\n",
      "└ @ CSV C:\\Users\\nickh\\.julia\\packages\\CSV\\YUbbG\\src\\file.jl:603\n",
      "┌ Warning: thread = 1 warning: only found 1001 / 1451 columns around data row: 92. Filling remaining columns with `missing`\n",
      "└ @ CSV C:\\Users\\nickh\\.julia\\packages\\CSV\\YUbbG\\src\\file.jl:603\n",
      "┌ Warning: thread = 1 warning: only found 1001 / 1451 columns around data row: 93. Filling remaining columns with `missing`\n",
      "└ @ CSV C:\\Users\\nickh\\.julia\\packages\\CSV\\YUbbG\\src\\file.jl:603\n",
      "┌ Warning: thread = 1 warning: only found 1001 / 1451 columns around data row: 94. Filling remaining columns with `missing`\n",
      "└ @ CSV C:\\Users\\nickh\\.julia\\packages\\CSV\\YUbbG\\src\\file.jl:603\n",
      "┌ Warning: thread = 1 warning: only found 1001 / 1451 columns around data row: 95. Filling remaining columns with `missing`\n",
      "└ @ CSV C:\\Users\\nickh\\.julia\\packages\\CSV\\YUbbG\\src\\file.jl:603\n",
      "┌ Warning: thread = 1 warning: only found 1001 / 1451 columns around data row: 96. Filling remaining columns with `missing`\n",
      "└ @ CSV C:\\Users\\nickh\\.julia\\packages\\CSV\\YUbbG\\src\\file.jl:603\n",
      "┌ Warning: thread = 1 warning: only found 1001 / 1451 columns around data row: 97. Filling remaining columns with `missing`\n",
      "└ @ CSV C:\\Users\\nickh\\.julia\\packages\\CSV\\YUbbG\\src\\file.jl:603\n",
      "┌ Warning: thread = 1 warning: only found 1001 / 1451 columns around data row: 98. Filling remaining columns with `missing`\n",
      "└ @ CSV C:\\Users\\nickh\\.julia\\packages\\CSV\\YUbbG\\src\\file.jl:603\n",
      "┌ Warning: thread = 1 warning: only found 1001 / 1451 columns around data row: 99. Filling remaining columns with `missing`\n",
      "└ @ CSV C:\\Users\\nickh\\.julia\\packages\\CSV\\YUbbG\\src\\file.jl:603\n",
      "┌ Warning: thread = 1 warning: only found 1001 / 1451 columns around data row: 100. Filling remaining columns with `missing`\n",
      "└ @ CSV C:\\Users\\nickh\\.julia\\packages\\CSV\\YUbbG\\src\\file.jl:603\n",
      "┌ Warning: thread = 1 warning: only found 1001 / 1451 columns around data row: 101. Filling remaining columns with `missing`\n",
      "└ @ CSV C:\\Users\\nickh\\.julia\\packages\\CSV\\YUbbG\\src\\file.jl:603\n",
      "┌ Warning: thread = 1 warning: only found 1001 / 1451 columns around data row: 102. Filling remaining columns with `missing`\n",
      "└ @ CSV C:\\Users\\nickh\\.julia\\packages\\CSV\\YUbbG\\src\\file.jl:603\n",
      "┌ Warning: thread = 1: too many warnings, silencing any further warnings\n",
      "└ @ CSV C:\\Users\\nickh\\.julia\\packages\\CSV\\YUbbG\\src\\file.jl:608\n"
     ]
    },
    {
     "data": {
      "text/plain": [
       "(6223, 500)"
      ]
     },
     "execution_count": 2,
     "metadata": {},
     "output_type": "execute_result"
    }
   ],
   "source": [
    "using DelimitedFiles\n",
    "using CSV\n",
    "using DataFrames\n",
    "data = CSV.read(\"C:\\\\Users\\\\nickh\\\\vectorized_xml_vectors_50_sorted\", DataFrame, header=0)\n",
    "#readdlm(\"C:\\\\Users\\\\nickh\\\\vectorized_xml_vectors_50\", \" \", Float64)\n",
    "#[Mu,Cov,P,Pi,LL,TL,gamma]=pmhmm(reshape(reshape(a', [], size(a)(2)), 50,[])', size(a)(2) / 50, 3,4)\n",
    "\n",
    "N = size(data)[1]\n",
    "D = 50\n",
    "#T = Int((size(data)[2] - 1) / D)\n",
    "T = 10\n",
    "dfa = Array(coalesce.(DataFrame(data)[:, 2:T*D+1], 0)) #, N*T\n",
    "\n",
    "raw = zeros(N*T, D)\n",
    "\n",
    "for n=1:N\n",
    "    for t=1:T\n",
    "        raw[((n-1)*T)+t,:] .= dfa[n, (t-1)*D+1:t*D]\n",
    "    end\n",
    "end\n",
    "size(dfa)"
   ]
  },
  {
   "cell_type": "code",
   "execution_count": 3,
   "metadata": {},
   "outputs": [
    {
     "data": {
      "text/plain": [
       "\"Variational converged in 17 iterations\""
      ]
     },
     "metadata": {},
     "output_type": "display_data"
    },
    {
     "data": {
      "text/plain": [
       "\"Step 1: Likelihood 0\""
      ]
     },
     "metadata": {},
     "output_type": "display_data"
    },
    {
     "data": {
      "text/plain": [
       "\"Step 2: Likelihood -6.030002213428542e6\""
      ]
     },
     "metadata": {},
     "output_type": "display_data"
    },
    {
     "data": {
      "text/plain": [
       "\"Variational converged in 5 iterations\""
      ]
     },
     "metadata": {},
     "output_type": "display_data"
    },
    {
     "data": {
      "text/plain": [
       "\"Step 3: Likelihood -2.281061499725315e6\""
      ]
     },
     "metadata": {},
     "output_type": "display_data"
    },
    {
     "data": {
      "text/plain": [
       "\"Variational converged in 4 iterations\""
      ]
     },
     "metadata": {},
     "output_type": "display_data"
    },
    {
     "data": {
      "text/plain": [
       "\"Step 4: Likelihood -2.2187301340685943e6\""
      ]
     },
     "metadata": {},
     "output_type": "display_data"
    },
    {
     "data": {
      "text/plain": [
       "\"Variational converged in 4 iterations\""
      ]
     },
     "metadata": {},
     "output_type": "display_data"
    },
    {
     "data": {
      "text/plain": [
       "\"Step 5: Likelihood -2.157758963550973e6\""
      ]
     },
     "metadata": {},
     "output_type": "display_data"
    },
    {
     "data": {
      "text/plain": [
       "\"Converged after 5 iterations\""
      ]
     },
     "metadata": {},
     "output_type": "display_data"
    }
   ],
   "source": [
    "include(\"FHMMs.jl\")\n",
    "\n",
    "K=3\n",
    "M=3\n",
    "#Y = rand(N*T, D) # NT*D\n",
    "\n",
    "model = Main.FHMMs.StructuredFHMM(raw, M,K,D,T,N)\n",
    "Main.FHMMs.fit_structured!(model, raw, 20,100,1.0e-8)"
   ]
  },
  {
   "cell_type": "code",
   "execution_count": 5,
   "metadata": {},
   "outputs": [
    {
     "data": {
      "text/plain": [
       "\"numrows 62230\""
      ]
     },
     "metadata": {},
     "output_type": "display_data"
    },
    {
     "data": {
      "text/plain": [
       "(6223, 90)"
      ]
     },
     "execution_count": 5,
     "metadata": {},
     "output_type": "execute_result"
    }
   ],
   "source": [
    "using Distances\n",
    "using Distributions\n",
    "using Statistics\n",
    "# T must divide nwidth \n",
    "nwidth = 1\n",
    "numrows=Int(size(model.γ)[1] / nwidth)\n",
    "γ_avg = zeros(numrows, size(model.γ)[2])\n",
    "display(\"numrows $numrows\")\n",
    "for i=1:numrows\n",
    "    γ_avg[i,:] = mean(model.γ[(i-1)*nwidth+1:(i*nwidth),:],dims=1)\n",
    "end\n",
    "\n",
    "γ_avg = reshape(γ_avg, size(dfa)[1], :)\n",
    "size(γ_avg)"
   ]
  },
  {
   "cell_type": "code",
   "execution_count": 9,
   "metadata": {},
   "outputs": [
    {
     "data": {
      "text/plain": [
       "73"
      ]
     },
     "metadata": {},
     "output_type": "display_data"
    },
    {
     "data": {
      "text/plain": [
       "\"检查好，你什么时候看到稻草人，想清楚了吗？\""
      ]
     },
     "metadata": {},
     "output_type": "display_data"
    },
    {
     "data": {
      "text/plain": [
       "(1, 6223)"
      ]
     },
     "metadata": {},
     "output_type": "display_data"
    },
    {
     "data": {
      "text/plain": [
       "\"检查好，你什么时候看到稻草人，想清楚了吗？\""
      ]
     },
     "metadata": {},
     "output_type": "display_data"
    },
    {
     "data": {
      "text/plain": [
       "\"你必须把你的泳衣并与我游泳。\""
      ]
     },
     "metadata": {},
     "output_type": "display_data"
    },
    {
     "data": {
      "text/plain": [
       "\"检查好，你什么时候看到稻草人，想清楚了吗？\""
      ]
     },
     "metadata": {},
     "output_type": "display_data"
    },
    {
     "data": {
      "text/plain": [
       "\"没什么，没什么就是没什么\""
      ]
     },
     "metadata": {},
     "output_type": "display_data"
    }
   ],
   "source": [
    "\n",
    "\n",
    "idx=rand(1:size(γ_avg)[1])\n",
    "display(idx)\n",
    "display(data[idx,1])\n",
    "#[vals, indices]=sort(pdist2(gamma_r(idx,:), gamma_r))\n",
    "display(size(pairwise(Euclidean(), reshape(γ_avg[idx,:], :, 1), γ_avg', dims=2)))\n",
    "indices = sortperm(vec(pairwise(Euclidean(), reshape(γ_avg[idx,:], :, 1), γ_avg', dims=2)))\n",
    "display(data[indices[1],1])\n",
    "display(data[indices[2],1])\n",
    "\n",
    "indices = sortperm(vec(pairwise(Euclidean(), reshape(dfa[idx,:], :, 1), dfa', dims=2)))\n",
    "display(data[indices[1],1])\n",
    "display(data[indices[2],1])"
   ]
  },
  {
   "cell_type": "code",
   "execution_count": null,
   "metadata": {},
   "outputs": [],
   "source": [
    "1"
   ]
  },
  {
   "cell_type": "code",
   "execution_count": null,
   "metadata": {},
   "outputs": [],
   "source": []
  },
  {
   "cell_type": "code",
   "execution_count": null,
   "metadata": {},
   "outputs": [],
   "source": [
    "using StatsBase\n",
    "using LinearAlgebra\n",
    "using Distributions\n",
    "include(\"FHMMs.jl\")\n",
    "\n",
    "K=3\n",
    "M=2\n",
    "D=2\n",
    "T=2\n",
    "\n",
    "pi = [0.1 0.3; 0.8 0.2; 0.1 0.5]\n",
    "\n",
    "C = [ 0.2 0.1; 0.1 0.2 ]\n",
    "\n",
    "P = zeros(K,K,M)\n",
    "P[:,:,1] = [ 0.25 0.35 0.3; 0.15 0.2 0.65; 0.15 0.65 0.2 ]\n",
    "P[:,:,2] = [ 0.99 0.005 0.005; 0.7 0.2 0.1; 0.3 0.3 0.4 ]\n",
    "\n",
    "W = zeros(D,K,M)\n",
    "W[:,:,1] = [0.5 -1 99; -0.5 -1 99]\n",
    "W[:,:,2] = [50 0 1; -50 0 1]\n",
    "\n",
    "model = Main.FHMMs.FHMM(D,K,M,    W, pi, P, C)\n",
    "\n",
    "#Y_n, states_n = generate(model, T)\n",
    "#display(Y)\n",
    "Y = [ 0.210517 48.5192; -0.219267 -51.817]\n",
    "\n",
    "h, γ, ξ = Main.FHMMs.fit_sv2_start!(model, Y)"
   ]
  },
  {
   "cell_type": "code",
   "execution_count": null,
   "metadata": {
    "scrolled": true
   },
   "outputs": [],
   "source": [
    "display(model.P)"
   ]
  },
  {
   "cell_type": "code",
   "execution_count": null,
   "metadata": {},
   "outputs": [],
   "source": [
    "for i=1:1000\n",
    "    Y_n, states_n = generate(model, T)\n",
    "    h, γ, ξ = Main.FHMMs.fit_sv2!(model, Y_n, h, γ, ξ)\n",
    "end"
   ]
  },
  {
   "cell_type": "code",
   "execution_count": null,
   "metadata": {},
   "outputs": [],
   "source": [
    "\n",
    "\n",
    "function generate(model::Main.FHMMs.FHMM, timesteps::Int)\n",
    "    X = zeros(size(model.W)[1], timesteps)\n",
    "    # choose initial states based on π\n",
    "    states = zeros(Int64, model.M, timesteps)\n",
    "    for m=1:model.M\n",
    "        idx = sample(weights(model.π[:,m]))\n",
    "        states[m,1] = Int64(idx)\n",
    "    end\n",
    "    for t=1:timesteps    \n",
    "        mu = zeros(model.D)\n",
    "        for m=1:model.M\n",
    "            mu += model.W[:,states[m,t],m]\n",
    "        end\n",
    "        n = MvNormal(mu, Array{Float64,2}(Hermitian(Symmetric(model.C))))\n",
    "        X[:,t] = rand(n)\n",
    "        if t < timesteps\n",
    "            for m=1:model.M\n",
    "                nsp = model.P[states[m,t],:,m]\n",
    "                smpl = sample(weights(nsp))\n",
    "                states[m,t+1] = smpl\n",
    "            end\n",
    "        end\n",
    "    end\n",
    "    return X,states\n",
    "end"
   ]
  },
  {
   "cell_type": "code",
   "execution_count": null,
   "metadata": {},
   "outputs": [],
   "source": [
    "function sample_states(model::Main.FHMMs.FHMM, timesteps::Int, iter=1000)\n",
    "    # we need to sample theta, KxMxT\n",
    "    # θ[1,1,2] represents the probabilities of chain (1) being in state (1) at time 2, \n",
    "    # θ[3,1,2] represents the probabilities of chain (1) being in state (3) at time 2, etc\n",
    "    # this is unconditional wrt the observation\n",
    "    theta_sampled = zeros(model.K,model.M, timesteps)\n",
    "    for i=1:iter\n",
    "        theta_iter = zeros(model.K,model.M,timesteps)\n",
    "        for m=1:model.M\n",
    "            s = sample(weights(model.π[:,m]))\n",
    "            theta_iter[s, m,1] += 1\n",
    "        end\n",
    "        for t=2:timesteps\n",
    "            for m=1:model_actual.M\n",
    "                lastState = findfirst((t) -> t == 1, theta_iter[:,m,t-1])\n",
    "                s = sample(weights(model.P[lastState,:,m]))\n",
    "                theta_iter[s,m,t] += 1\n",
    "            end\n",
    "        end\n",
    "        theta_sampled .+= theta_iter\n",
    "    end\n",
    "    theta_sampled ./= iter\n",
    "    return theta_sampled\n",
    "end\n"
   ]
  },
  {
   "cell_type": "code",
   "execution_count": null,
   "metadata": {},
   "outputs": [],
   "source": [
    "function get_state_combinations(M::Int, K::Int)\n",
    "    state_combinations = []\n",
    "    m = 1\n",
    "    stack = []\n",
    "    while(true)\n",
    "        if(m == M)\n",
    "            if(size(stack)[1] != M - 1)\n",
    "                break\n",
    "            end\n",
    "            for s=1:K\n",
    "                push!(stack, s)\n",
    "                push!(state_combinations, copy(stack))\n",
    "                pop!(stack)\n",
    "            end\n",
    "            stack[end] +=1\n",
    "            while(stack[end] > K)\n",
    "                pop!(stack)\n",
    "                if(size(stack)[1] == 0)\n",
    "                    break\n",
    "                end\n",
    "                stack[end] +=1\n",
    "                m -= 1\n",
    "            end\n",
    "        else\n",
    "            push!(stack, 1)\n",
    "            m += 1\n",
    "        end\n",
    "    end\n",
    "    return state_combinations\n",
    "end"
   ]
  },
  {
   "cell_type": "code",
   "execution_count": null,
   "metadata": {},
   "outputs": [],
   "source": [
    "# we want to calculate \n",
    "# P(Mt=St|Yt)\n",
    "# = P(Yt|Mt=St).P(Mt=St|Mt-1=St-1) / P(Yt)\n",
    "# This decoding is specific to the completely factorized VI model which uses a simplified P(Mt|Yt) that assumes \n",
    "# no dependence between timesteps. Viterbi decoding is therefore not required, since we don't need to find the max sequence,\n",
    "# we just take the max P at each timestep.\n",
    "# even though each chain is independent but the observation is conditional on *all* chains \n",
    "# this is because Yt is a sum of M1,M2,M3...\n",
    "# i.e. P(Yt|M1t=S1t,M2t=.., M3t=..) != P(Yt|M1t=S1t)\n",
    "# but we have θ, which is an estimation of P(M1t=S1t), P(M1t=S2t)...P(Mmt=Sst)\n",
    "# so we need to find all configurations of M/S at this t\n",
    "# cross product of (M1xS)x(M2xS)x..x(MkxS)\n",
    "# if we are using the variational inference model, θ is KxMxT\n",
    "# θ[1,1,2] represents p(chain (1) in state (1) at time 2) \n",
    "# θ[3,1,2] represents p(chain (1) in state (3) at time 2), etc\n",
    "# this is unconditional wrt the observation\n",
    "# i.e. P(Mt=St|M(t-1)=S(t-1))\n",
    "# therefore P(Mt=St) is the product over dim(1) at T\n",
    "function decode(model::Main.FHMMs.FHMM, X::Array{Float64,2}, θ::Array{Float64,3})\n",
    "    \n",
    "    D=size(X)[1]\n",
    "    timesteps=size(X)[2]\n",
    "    T = timesteps\n",
    "    \n",
    "    states = zeros(model.M,timesteps)\n",
    "    for t=1:timesteps\n",
    "        pmax = -1\n",
    "        mmax = []\n",
    "        stack = []\n",
    "        m = 1\n",
    "        M = model.M\n",
    "        K = model.K\n",
    "        while(true)\n",
    "            if(m == M)\n",
    "                if(size(stack)[1] != M - 1)\n",
    "                    break\n",
    "                end\n",
    "                for s=1:K\n",
    "                    push!(stack, s)\n",
    "                    mu = zeros(D)\n",
    "                    for i=1:M\n",
    "                        mu += model.W[:, stack[i], i]\n",
    "                    end\n",
    "                    \n",
    "                    p_yt_given_mt_in_s = pdf(MvNormal(mu, Array{Float64,2}(Hermitian(Symmetric(model.C)))), X[:,t])\n",
    "                    p_mt_in_s = reduce(*, θ[stack,:,t])\n",
    "                    unnormalized = p_yt_given_mt_in_s * p_mt_in_s\n",
    "                    if unnormalized > pmax\n",
    "                        pmax = unnormalized\n",
    "                        mmax = copy(stack)\n",
    "                    end\n",
    "                    pop!(stack)\n",
    "                end\n",
    "                stack[end] +=1\n",
    "                while(stack[end] > K)\n",
    "                    pop!(stack)\n",
    "                    if(size(stack)[1] == 0)\n",
    "                        break\n",
    "                    end\n",
    "                    stack[end] +=1\n",
    "                    m -= 1\n",
    "                end\n",
    "            else\n",
    "                push!(stack, 1)\n",
    "                m += 1\n",
    "            end\n",
    "        end\n",
    "        states[:,t] = mmax\n",
    "    end\n",
    "    return states\n",
    "end"
   ]
  },
  {
   "cell_type": "code",
   "execution_count": null,
   "metadata": {},
   "outputs": [],
   "source": [
    "function decode_full(model::Main.FHMMs.FHMM, X::Array{Float64,2})\n",
    "    D=size(X)[1]\n",
    "    timesteps=size(X)[2]\n",
    "    state_combinations = get_state_combinations(model.M, model.K)\n",
    "    state_probabilities = zeros(size(state_combinations)[1],timesteps)\n",
    "    \n",
    "    M = model.M\n",
    "    K = model.K\n",
    "    logP = log.(model.P)\n",
    "    for t=1:timesteps\n",
    "        for s_index=1:size(state_combinations)[1]\n",
    "            state = state_combinations[s_index]\n",
    "            mu = zeros(D)\n",
    "            for i=1:model.M\n",
    "                mu += model.W[:, state[i], i]\n",
    "            end\n",
    "            p_yt_given_mt_in_s = pdf(MvNormal(mu, Array{Float64,2}(Hermitian(Symmetric(model.C)))), X[:,t])\n",
    "                   \n",
    "            if(t == 1)\n",
    "               p_mt_in_s = reduce(*, model.π[[CartesianIndex(state[i], i)  for i=1:model.M]])\n",
    "            else\n",
    "                # calculate the probability that chain M is in state K, P(Mt)\n",
    "                # this is P(Mt|Mt-1, Yt), so P(Mt-1|Yt) * P(Mt|Mt-1)\n",
    "                # P(Mt-1|Yt) is sum over K\n",
    "                p_mt_in_s = 0\n",
    "                for sc_last_index=1:size(state_combinations)[1]\n",
    "                    sc_last = state_combinations[sc_last_index]\n",
    "                    for m_last=1:M\n",
    "                        for m_this=1:M\n",
    "                            p_mt_in_s += exp(\n",
    "                                state_probabilities[sc_last_index,t-1] + \n",
    "                                logP[sc_last[m_this], state[m_this], m_this])\n",
    "                        end\n",
    "                    end\n",
    "                end\n",
    "            end\n",
    "            state_probabilities[s_index,t] = log(p_yt_given_mt_in_s) +  log(p_mt_in_s)\n",
    "         end\n",
    "    end\n",
    "    max_probs = zeros(M, timesteps)\n",
    "    i = 1\n",
    "    for p in argmax(state_probabilities, dims=1)\n",
    "        max_probs[:, p[2]] = state_combinations[p[1]]\n",
    "        i += 1\n",
    "    end\n",
    "    return max_probs\n",
    "end\n"
   ]
  },
  {
   "cell_type": "code",
   "execution_count": null,
   "metadata": {},
   "outputs": [],
   "source": [
    "# setup our known model\n",
    "# \n",
    "D=6\n",
    "K=3\n",
    "M=2\n",
    "#T=5\n",
    "W=cat( [ 1.0 49.0; -1.0 -49.0 ],[ 1.0 49.0; -1.0 -49.0 ], [ 1.0 49.0; -1.0 -49.0 ], dims=3)\n",
    "π = [ 0.35 0.25 0.95; 0.65 0.75 0.05; ]\n",
    "P = cat([ 0.3 0.7 ; 0.2 0.8 ; ],\n",
    "    [ 0.5 0.5 ; 0.4 0.6 ;  ],\n",
    "    [ 0.75 0.25 ; 0.89 0.11 ; ], dims=3)\n",
    "W = rand(D,K,M)\n",
    "π = rand(K,M)\n",
    "π ./= sum(π,dims=(1))\n",
    "P = rand(K, K, M)\n",
    "P ./= sum(P, dims=2)\n",
    "#C = rand(D,D)\n",
    "C = Array{Float64}(Diagonal([0.1 for x in 1:D]))\n",
    "model_actual = Main.FHMMs.FHMM(D,K,M,\n",
    "    W, π, P, C)\n",
    "\n",
    "X, actual = generate(model_actual, 4)\n",
    "\n"
   ]
  },
  {
   "cell_type": "code",
   "execution_count": null,
   "metadata": {},
   "outputs": [],
   "source": [
    "#Y = rand(5,4)\n",
    "\n",
    "Main.FHMMs.fit_sv2!(model_actual, X)"
   ]
  },
  {
   "cell_type": "code",
   "execution_count": null,
   "metadata": {},
   "outputs": [],
   "source": [
    "actual"
   ]
  },
  {
   "cell_type": "code",
   "execution_count": null,
   "metadata": {},
   "outputs": [],
   "source": [
    "X, actual = generate(model_actual, 4)\n",
    "model_complete = Main.FHMMs.FHMM(D,K,M)\n",
    "result = Main.FHMMs.fit!(model_complete,X,maxiter=5000,verbose=true)    \n",
    "decode_full(model_complete, X)"
   ]
  },
  {
   "cell_type": "code",
   "execution_count": null,
   "metadata": {},
   "outputs": [],
   "source": [
    "actual"
   ]
  },
  {
   "cell_type": "code",
   "execution_count": null,
   "metadata": {},
   "outputs": [],
   "source": [
    "timesteps=10\n",
    "num_observations = 100\n",
    "\n",
    "theta_sampled = sample_states(model_actual, timesteps, 1000)\n",
    "j = 0\n",
    "for i in 1:num_observations\n",
    "    X,actual_states = generate(model_actual, timesteps)\n",
    "    estimated_states = decode(model_actual,X, theta_sampled)\n",
    "    j += sum(actual_states .== estimated_states)\n",
    "end\n",
    "j / (num_observations * timesteps * model_actual.M)"
   ]
  },
  {
   "cell_type": "code",
   "execution_count": null,
   "metadata": {},
   "outputs": [],
   "source": [
    "j = 0\n",
    "for i in 1:num_observations\n",
    "    X,actual_states = generate(model_actual, timesteps)\n",
    "    estimated_states = decode_full(model_actual,X)\n",
    "    j += sum(actual_states .== estimated_states)\n",
    "end\n",
    "j / (num_observations * timesteps * model_actual.M)"
   ]
  },
  {
   "cell_type": "code",
   "execution_count": null,
   "metadata": {},
   "outputs": [],
   "source": [
    "model_learn = Main.FHMMs.FHMM(D,K,M)\n",
    "j = 0\n",
    "num_observations = 50\n",
    "for i=1:num_observations\n",
    "    X,actual_states = generate(model_actual, timesteps)\n",
    "    \n",
    "    result = Main.FHMMs.fit!(model_learn,X,maxiter=100)    \n",
    "    \n",
    "    estimated_states = decode_full(model_learn,X)\n",
    "    j += sum(actual_states .== estimated_states)\n",
    "end\n",
    "j / (num_observations * timesteps * model_actual.M)"
   ]
  },
  {
   "cell_type": "code",
   "execution_count": null,
   "metadata": {},
   "outputs": [],
   "source": [
    "timesteps=10\n",
    "model_learn = Main.FHMMs.FHMM(D,K,M)\n",
    "j = 0\n",
    "num_observations = 100\n",
    "for i=1:num_observations\n",
    "    X,actual_states = generate(model_actual, timesteps)\n",
    "    result = Main.FHMMs.fit!(model_learn,X,maxiter=100,fzero=true)    \n",
    "    for i in 1:D\n",
    "        model_learn.C[i, i] += 0.0001\n",
    "    end\n",
    "    #println(cholesky(Hermitian(Symmetric(model_learn.C))))\n",
    "    estimated_states = decode(model_learn,X, result.θ)\n",
    "    j += sum(actual_states .== estimated_states)\n",
    "    println(j / (i * timesteps * model_actual.M))\n",
    "end\n",
    "j / (num_observations * timesteps * model_actual.M)"
   ]
  },
  {
   "cell_type": "code",
   "execution_count": null,
   "metadata": {},
   "outputs": [],
   "source": []
  }
 ],
 "metadata": {
  "kernelspec": {
   "display_name": "Julia 1.5.3",
   "language": "julia",
   "name": "julia-1.5"
  },
  "language_info": {
   "file_extension": ".jl",
   "mimetype": "application/julia",
   "name": "julia",
   "version": "1.5.3"
  }
 },
 "nbformat": 4,
 "nbformat_minor": 2
}
