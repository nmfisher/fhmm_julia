{
 "cells": [
  {
   "cell_type": "code",
   "execution_count": 1021,
   "metadata": {},
   "outputs": [
    {
     "data": {
      "text/plain": [
       "2×2 Array{Float64,2}:\n",
       " -53.2752  56.7627\n",
       " -33.6719  35.9132"
      ]
     },
     "execution_count": 1021,
     "metadata": {},
     "output_type": "execute_result"
    }
   ],
   "source": [
    "([1177.08 -1257.08; -1257.08 1342.52]) - (([0.5 -1 99; -0.5 -1 99] * [1/3; 1/3; 1/3] * [0.210517; -0.219267]' + [0.5 -1 99; -0.5 -1 99] * [1; 0; 0] * [48.5192; -51.817]' + [50 0 1; -50 0 1] * [1/3; 1/3; 1/3] * [0.210517; -0.219267]' + [50 0 1; -50 0 1] * [1; 0; 0] * [48.5192; -51.817]') ./ 2)"
   ]
  },
  {
   "cell_type": "code",
   "execution_count": 1029,
   "metadata": {},
   "outputs": [
    {
     "data": {
      "text/plain": [
       "2-element Array{Float64,1}:\n",
       " 32.833333333333336\n",
       " 32.5"
      ]
     },
     "execution_count": 1029,
     "metadata": {},
     "output_type": "execute_result"
    }
   ],
   "source": [
    "[0.5 -1 99; -0.5 -1 99] * [1/3; 1/3; 1/3]"
   ]
  },
  {
   "cell_type": "code",
   "execution_count": 1090,
   "metadata": {},
   "outputs": [
    {
     "name": "stderr",
     "output_type": "stream",
     "text": [
      "WARNING: replacing module FHMMs.\n"
     ]
    },
    {
     "ename": "LoadError",
     "evalue": "MethodError: no method matching diag(::Array{Float64,3})\nClosest candidates are:\n  diag(!Matched::BitArray{2}) at C:\\buildbot\\worker\\package_win64\\build\\usr\\share\\julia\\stdlib\\v1.5\\LinearAlgebra\\src\\bitarray.jl:79\n  diag(!Matched::SymTridiagonal{var\"#s828\",V} where V<:AbstractArray{var\"#s828\",1} where var\"#s828\"<:Number) at C:\\buildbot\\worker\\package_win64\\build\\usr\\share\\julia\\stdlib\\v1.5\\LinearAlgebra\\src\\tridiag.jl:173\n  diag(!Matched::SymTridiagonal{var\"#s827\",V} where V<:AbstractArray{var\"#s827\",1} where var\"#s827\"<:Number, !Matched::Integer) at C:\\buildbot\\worker\\package_win64\\build\\usr\\share\\julia\\stdlib\\v1.5\\LinearAlgebra\\src\\tridiag.jl:173\n  ...",
     "output_type": "error",
     "traceback": [
      "MethodError: no method matching diag(::Array{Float64,3})\nClosest candidates are:\n  diag(!Matched::BitArray{2}) at C:\\buildbot\\worker\\package_win64\\build\\usr\\share\\julia\\stdlib\\v1.5\\LinearAlgebra\\src\\bitarray.jl:79\n  diag(!Matched::SymTridiagonal{var\"#s828\",V} where V<:AbstractArray{var\"#s828\",1} where var\"#s828\"<:Number) at C:\\buildbot\\worker\\package_win64\\build\\usr\\share\\julia\\stdlib\\v1.5\\LinearAlgebra\\src\\tridiag.jl:173\n  diag(!Matched::SymTridiagonal{var\"#s827\",V} where V<:AbstractArray{var\"#s827\",1} where var\"#s827\"<:Number, !Matched::Integer) at C:\\buildbot\\worker\\package_win64\\build\\usr\\share\\julia\\stdlib\\v1.5\\LinearAlgebra\\src\\tridiag.jl:173\n  ...",
      "",
      "Stacktrace:",
      " [1] m_step(::Main.FHMMs.FHMM, ::Array{Float64,3}, ::Array{Float64,2}, ::Array{Float64,3}, ::Array{Float64,4}) at C:\\Users\\nickh\\Documents\\Projects\\fhmm_julia\\structured_vfhmm2.jl:266",
      " [2] fit_sv2!(::Main.FHMMs.FHMM, ::Array{Float64,2}, ::Array{Float64,3}, ::Array{Float64,3}, ::Array{Float64,4}, ::Int64, ::Float64, ::Bool, ::Bool) at C:\\Users\\nickh\\Documents\\Projects\\fhmm_julia\\structured_vfhmm2.jl:412",
      " [3] fit_sv2_start!(::Main.FHMMs.FHMM, ::Array{Float64,2}, ::Int64, ::Float64, ::Bool, ::Bool) at C:\\Users\\nickh\\Documents\\Projects\\fhmm_julia\\structured_vfhmm2.jl:369",
      " [4] fit_sv2_start!(::Main.FHMMs.FHMM, ::Array{Float64,2}) at C:\\Users\\nickh\\Documents\\Projects\\fhmm_julia\\structured_vfhmm2.jl:358",
      " [5] top-level scope at In[1090]:29",
      " [6] include_string(::Function, ::Module, ::String, ::String) at .\\loading.jl:1091"
     ]
    }
   ],
   "source": [
    "using StatsBase\n",
    "using LinearAlgebra\n",
    "using Distributions\n",
    "include(\"FHMMs.jl\")\n",
    "\n",
    "K=3\n",
    "M=2\n",
    "D=2\n",
    "T=2\n",
    "\n",
    "pi = [0.1 0.3; 0.8 0.2; 0.1 0.5]\n",
    "\n",
    "C = [ 0.2 0.1; 0.1 0.2 ]\n",
    "\n",
    "P = zeros(K,K,M)\n",
    "P[:,:,1] = [ 0.25 0.35 0.3; 0.15 0.2 0.65; 0.15 0.65 0.2 ]\n",
    "P[:,:,2] = [ 0.99 0.005 0.005; 0.7 0.2 0.1; 0.3 0.3 0.4 ]\n",
    "\n",
    "W = zeros(D,K,M)\n",
    "W[:,:,1] = [0.5 -1 99; -0.5 -1 99]\n",
    "W[:,:,2] = [50 0 1; -50 0 1]\n",
    "\n",
    "model = Main.FHMMs.FHMM(D,K,M,    W, pi, P, C)\n",
    "\n",
    "#Y_n, states_n = generate(model, T)\n",
    "#display(Y)\n",
    "Y = [ 0.210517 48.5192; -0.219267 -51.817]\n",
    "\n",
    "h, γ, ξ = Main.FHMMs.fit_sv2_start!(model, Y)"
   ]
  },
  {
   "cell_type": "code",
   "execution_count": 1083,
   "metadata": {},
   "outputs": [
    {
     "data": {
      "text/plain": [
       "2×2 Array{Float64,2}:\n",
       " -1177.08   1257.08\n",
       "  1257.08  -1342.52"
      ]
     },
     "metadata": {},
     "output_type": "display_data"
    },
    {
     "data": {
      "text/plain": [
       "false"
      ]
     },
     "execution_count": 1083,
     "metadata": {},
     "output_type": "execute_result"
    }
   ],
   "source": [
    "display(model.C)\n",
    "isposdef(model.C / 1257)"
   ]
  },
  {
   "cell_type": "code",
   "execution_count": 1069,
   "metadata": {},
   "outputs": [
    {
     "data": {
      "text/plain": [
       "2×2 Array{Float64,2}:\n",
       " -1177.08   1257.08\n",
       "  1257.08  -1342.52"
      ]
     },
     "metadata": {},
     "output_type": "display_data"
    },
    {
     "ename": "LoadError",
     "evalue": "MethodError: no method matching generate(::Main.FHMMs.FHMM, ::Int64)\nClosest candidates are:\n  generate(!Matched::Main.FHMMs.FHMM, ::Int64) at In[169]:3\n  generate(!Matched::Main.FHMMs.FHMM, ::Int64) at In[620]:3\n  generate(!Matched::Main.FHMMs.FHMM, ::Int64) at In[798]:3\n  ...",
     "output_type": "error",
     "traceback": [
      "MethodError: no method matching generate(::Main.FHMMs.FHMM, ::Int64)\nClosest candidates are:\n  generate(!Matched::Main.FHMMs.FHMM, ::Int64) at In[169]:3\n  generate(!Matched::Main.FHMMs.FHMM, ::Int64) at In[620]:3\n  generate(!Matched::Main.FHMMs.FHMM, ::Int64) at In[798]:3\n  ...",
      "",
      "Stacktrace:",
      " [1] top-level scope at .\\In[1069]:4",
      " [2] include_string(::Function, ::Module, ::String, ::String) at .\\loading.jl:1091"
     ]
    }
   ],
   "source": [
    "\n",
    "\n",
    "for i=1:5\n",
    "    Y_n, states_n = generate(model, T)\n",
    "    h, γ, ξ = Main.FHMMs.fit_sv2!(model, Y_n, h, γ, ξ)\n",
    "end"
   ]
  },
  {
   "cell_type": "code",
   "execution_count": 1062,
   "metadata": {},
   "outputs": [
    {
     "data": {
      "text/plain": [
       "generate (generic function with 69 methods)"
      ]
     },
     "execution_count": 1062,
     "metadata": {},
     "output_type": "execute_result"
    }
   ],
   "source": [
    "\n",
    "\n",
    "function generate(model::Main.FHMMs.FHMM, timesteps::Int)\n",
    "    X = zeros(size(model.W)[1], timesteps)\n",
    "    # choose initial states based on π\n",
    "    states = zeros(Int64, model.M, timesteps)\n",
    "    for m=1:model.M\n",
    "        idx = sample(weights(model.π[:,m]))\n",
    "        states[m,1] = Int64(idx)\n",
    "    end\n",
    "    for t=1:timesteps    \n",
    "        mu = zeros(model.D)\n",
    "        for m=1:model.M\n",
    "            mu += model.W[:,states[m,t],m]\n",
    "        end\n",
    "        n = MvNormal(mu, Array{Float64,2}(Hermitian(Symmetric(model.C))))\n",
    "        X[:,t] = rand(n)\n",
    "        if t < timesteps\n",
    "            for m=1:model.M\n",
    "                nsp = model.P[states[m,t],:,m]\n",
    "                smpl = sample(weights(nsp))\n",
    "                states[m,t+1] = smpl\n",
    "            end\n",
    "        end\n",
    "    end\n",
    "    return X,states\n",
    "end"
   ]
  },
  {
   "cell_type": "code",
   "execution_count": 799,
   "metadata": {},
   "outputs": [
    {
     "data": {
      "text/plain": [
       "sample_states (generic function with 136 methods)"
      ]
     },
     "execution_count": 799,
     "metadata": {},
     "output_type": "execute_result"
    }
   ],
   "source": [
    "function sample_states(model::Main.FHMMs.FHMM, timesteps::Int, iter=1000)\n",
    "    # we need to sample theta, KxMxT\n",
    "    # θ[1,1,2] represents the probabilities of chain (1) being in state (1) at time 2, \n",
    "    # θ[3,1,2] represents the probabilities of chain (1) being in state (3) at time 2, etc\n",
    "    # this is unconditional wrt the observation\n",
    "    theta_sampled = zeros(model.K,model.M, timesteps)\n",
    "    for i=1:iter\n",
    "        theta_iter = zeros(model.K,model.M,timesteps)\n",
    "        for m=1:model.M\n",
    "            s = sample(weights(model.π[:,m]))\n",
    "            theta_iter[s, m,1] += 1\n",
    "        end\n",
    "        for t=2:timesteps\n",
    "            for m=1:model_actual.M\n",
    "                lastState = findfirst((t) -> t == 1, theta_iter[:,m,t-1])\n",
    "                s = sample(weights(model.P[lastState,:,m]))\n",
    "                theta_iter[s,m,t] += 1\n",
    "            end\n",
    "        end\n",
    "        theta_sampled .+= theta_iter\n",
    "    end\n",
    "    theta_sampled ./= iter\n",
    "    return theta_sampled\n",
    "end\n"
   ]
  },
  {
   "cell_type": "code",
   "execution_count": 800,
   "metadata": {},
   "outputs": [
    {
     "data": {
      "text/plain": [
       "get_state_combinations (generic function with 1 method)"
      ]
     },
     "execution_count": 800,
     "metadata": {},
     "output_type": "execute_result"
    }
   ],
   "source": [
    "function get_state_combinations(M::Int, K::Int)\n",
    "    state_combinations = []\n",
    "    m = 1\n",
    "    stack = []\n",
    "    while(true)\n",
    "        if(m == M)\n",
    "            if(size(stack)[1] != M - 1)\n",
    "                break\n",
    "            end\n",
    "            for s=1:K\n",
    "                push!(stack, s)\n",
    "                push!(state_combinations, copy(stack))\n",
    "                pop!(stack)\n",
    "            end\n",
    "            stack[end] +=1\n",
    "            while(stack[end] > K)\n",
    "                pop!(stack)\n",
    "                if(size(stack)[1] == 0)\n",
    "                    break\n",
    "                end\n",
    "                stack[end] +=1\n",
    "                m -= 1\n",
    "            end\n",
    "        else\n",
    "            push!(stack, 1)\n",
    "            m += 1\n",
    "        end\n",
    "    end\n",
    "    return state_combinations\n",
    "end"
   ]
  },
  {
   "cell_type": "code",
   "execution_count": 801,
   "metadata": {},
   "outputs": [
    {
     "data": {
      "text/plain": [
       "decode (generic function with 68 methods)"
      ]
     },
     "execution_count": 801,
     "metadata": {},
     "output_type": "execute_result"
    }
   ],
   "source": [
    "# we want to calculate \n",
    "# P(Mt=St|Yt)\n",
    "# = P(Yt|Mt=St).P(Mt=St|Mt-1=St-1) / P(Yt)\n",
    "# This decoding is specific to the completely factorized VI model which uses a simplified P(Mt|Yt) that assumes \n",
    "# no dependence between timesteps. Viterbi decoding is therefore not required, since we don't need to find the max sequence,\n",
    "# we just take the max P at each timestep.\n",
    "# even though each chain is independent but the observation is conditional on *all* chains \n",
    "# this is because Yt is a sum of M1,M2,M3...\n",
    "# i.e. P(Yt|M1t=S1t,M2t=.., M3t=..) != P(Yt|M1t=S1t)\n",
    "# but we have θ, which is an estimation of P(M1t=S1t), P(M1t=S2t)...P(Mmt=Sst)\n",
    "# so we need to find all configurations of M/S at this t\n",
    "# cross product of (M1xS)x(M2xS)x..x(MkxS)\n",
    "# if we are using the variational inference model, θ is KxMxT\n",
    "# θ[1,1,2] represents p(chain (1) in state (1) at time 2) \n",
    "# θ[3,1,2] represents p(chain (1) in state (3) at time 2), etc\n",
    "# this is unconditional wrt the observation\n",
    "# i.e. P(Mt=St|M(t-1)=S(t-1))\n",
    "# therefore P(Mt=St) is the product over dim(1) at T\n",
    "function decode(model::Main.FHMMs.FHMM, X::Array{Float64,2}, θ::Array{Float64,3})\n",
    "    \n",
    "    D=size(X)[1]\n",
    "    timesteps=size(X)[2]\n",
    "    T = timesteps\n",
    "    \n",
    "    states = zeros(model.M,timesteps)\n",
    "    for t=1:timesteps\n",
    "        pmax = -1\n",
    "        mmax = []\n",
    "        stack = []\n",
    "        m = 1\n",
    "        M = model.M\n",
    "        K = model.K\n",
    "        while(true)\n",
    "            if(m == M)\n",
    "                if(size(stack)[1] != M - 1)\n",
    "                    break\n",
    "                end\n",
    "                for s=1:K\n",
    "                    push!(stack, s)\n",
    "                    mu = zeros(D)\n",
    "                    for i=1:M\n",
    "                        mu += model.W[:, stack[i], i]\n",
    "                    end\n",
    "                    \n",
    "                    p_yt_given_mt_in_s = pdf(MvNormal(mu, Array{Float64,2}(Hermitian(Symmetric(model.C)))), X[:,t])\n",
    "                    p_mt_in_s = reduce(*, θ[stack,:,t])\n",
    "                    unnormalized = p_yt_given_mt_in_s * p_mt_in_s\n",
    "                    if unnormalized > pmax\n",
    "                        pmax = unnormalized\n",
    "                        mmax = copy(stack)\n",
    "                    end\n",
    "                    pop!(stack)\n",
    "                end\n",
    "                stack[end] +=1\n",
    "                while(stack[end] > K)\n",
    "                    pop!(stack)\n",
    "                    if(size(stack)[1] == 0)\n",
    "                        break\n",
    "                    end\n",
    "                    stack[end] +=1\n",
    "                    m -= 1\n",
    "                end\n",
    "            else\n",
    "                push!(stack, 1)\n",
    "                m += 1\n",
    "            end\n",
    "        end\n",
    "        states[:,t] = mmax\n",
    "    end\n",
    "    return states\n",
    "end"
   ]
  },
  {
   "cell_type": "code",
   "execution_count": 802,
   "metadata": {},
   "outputs": [
    {
     "data": {
      "text/plain": [
       "decode_full (generic function with 68 methods)"
      ]
     },
     "execution_count": 802,
     "metadata": {},
     "output_type": "execute_result"
    }
   ],
   "source": [
    "function decode_full(model::Main.FHMMs.FHMM, X::Array{Float64,2})\n",
    "    D=size(X)[1]\n",
    "    timesteps=size(X)[2]\n",
    "    state_combinations = get_state_combinations(model.M, model.K)\n",
    "    state_probabilities = zeros(size(state_combinations)[1],timesteps)\n",
    "    \n",
    "    M = model.M\n",
    "    K = model.K\n",
    "    logP = log.(model.P)\n",
    "    for t=1:timesteps\n",
    "        for s_index=1:size(state_combinations)[1]\n",
    "            state = state_combinations[s_index]\n",
    "            mu = zeros(D)\n",
    "            for i=1:model.M\n",
    "                mu += model.W[:, state[i], i]\n",
    "            end\n",
    "            p_yt_given_mt_in_s = pdf(MvNormal(mu, Array{Float64,2}(Hermitian(Symmetric(model.C)))), X[:,t])\n",
    "                   \n",
    "            if(t == 1)\n",
    "               p_mt_in_s = reduce(*, model.π[[CartesianIndex(state[i], i)  for i=1:model.M]])\n",
    "            else\n",
    "                # calculate the probability that chain M is in state K, P(Mt)\n",
    "                # this is P(Mt|Mt-1, Yt), so P(Mt-1|Yt) * P(Mt|Mt-1)\n",
    "                # P(Mt-1|Yt) is sum over K\n",
    "                p_mt_in_s = 0\n",
    "                for sc_last_index=1:size(state_combinations)[1]\n",
    "                    sc_last = state_combinations[sc_last_index]\n",
    "                    for m_last=1:M\n",
    "                        for m_this=1:M\n",
    "                            p_mt_in_s += exp(\n",
    "                                state_probabilities[sc_last_index,t-1] + \n",
    "                                logP[sc_last[m_this], state[m_this], m_this])\n",
    "                        end\n",
    "                    end\n",
    "                end\n",
    "            end\n",
    "            state_probabilities[s_index,t] = log(p_yt_given_mt_in_s) +  log(p_mt_in_s)\n",
    "         end\n",
    "    end\n",
    "    max_probs = zeros(M, timesteps)\n",
    "    i = 1\n",
    "    for p in argmax(state_probabilities, dims=1)\n",
    "        max_probs[:, p[2]] = state_combinations[p[1]]\n",
    "        i += 1\n",
    "    end\n",
    "    return max_probs\n",
    "end\n"
   ]
  },
  {
   "cell_type": "code",
   "execution_count": 803,
   "metadata": {},
   "outputs": [
    {
     "data": {
      "text/plain": [
       "([1.2963597090764072 1.1606759062138554 1.6865151425697347 0.6716119434999178; 0.9839792325446926 -0.07496810994898206 0.871210678659229 1.1124955340674547; … ; 0.4457384533413633 1.9637295031609254 2.178485919888562 1.712512544543915; 1.1382162515375085 1.1775117933222603 1.6346955566965595 1.2652243512414156], [3 2 2 1; 1 2 2 2])"
      ]
     },
     "execution_count": 803,
     "metadata": {},
     "output_type": "execute_result"
    }
   ],
   "source": [
    "# setup our known model\n",
    "# \n",
    "D=6\n",
    "K=3\n",
    "M=2\n",
    "#T=5\n",
    "W=cat( [ 1.0 49.0; -1.0 -49.0 ],[ 1.0 49.0; -1.0 -49.0 ], [ 1.0 49.0; -1.0 -49.0 ], dims=3)\n",
    "π = [ 0.35 0.25 0.95; 0.65 0.75 0.05; ]\n",
    "P = cat([ 0.3 0.7 ; 0.2 0.8 ; ],\n",
    "    [ 0.5 0.5 ; 0.4 0.6 ;  ],\n",
    "    [ 0.75 0.25 ; 0.89 0.11 ; ], dims=3)\n",
    "W = rand(D,K,M)\n",
    "π = rand(K,M)\n",
    "π ./= sum(π,dims=(1))\n",
    "P = rand(K, K, M)\n",
    "P ./= sum(P, dims=2)\n",
    "#C = rand(D,D)\n",
    "C = Array{Float64}(Diagonal([0.1 for x in 1:D]))\n",
    "model_actual = Main.FHMMs.FHMM(D,K,M,\n",
    "    W, π, P, C)\n",
    "\n",
    "X, actual = generate(model_actual, 4)\n",
    "\n"
   ]
  },
  {
   "cell_type": "code",
   "execution_count": 805,
   "metadata": {},
   "outputs": [
    {
     "data": {
      "text/plain": [
       "-1257.9116607124058"
      ]
     },
     "metadata": {},
     "output_type": "display_data"
    },
    {
     "data": {
      "text/plain": [
       "-1257.9116607124058"
      ]
     },
     "metadata": {},
     "output_type": "display_data"
    },
    {
     "data": {
      "text/plain": [
       "-1257.9116607124058"
      ]
     },
     "metadata": {},
     "output_type": "display_data"
    },
    {
     "data": {
      "text/plain": [
       "-1257.9116607124058"
      ]
     },
     "metadata": {},
     "output_type": "display_data"
    },
    {
     "data": {
      "text/plain": [
       "-1257.9116607124058"
      ]
     },
     "metadata": {},
     "output_type": "display_data"
    },
    {
     "data": {
      "text/plain": [
       "-1257.9116607124058"
      ]
     },
     "metadata": {},
     "output_type": "display_data"
    },
    {
     "data": {
      "text/plain": [
       "-1257.9116607124058"
      ]
     },
     "metadata": {},
     "output_type": "display_data"
    },
    {
     "data": {
      "text/plain": [
       "-1257.9116607124058"
      ]
     },
     "metadata": {},
     "output_type": "display_data"
    },
    {
     "data": {
      "text/plain": [
       "-1257.9116607124058"
      ]
     },
     "metadata": {},
     "output_type": "display_data"
    },
    {
     "data": {
      "text/plain": [
       "-1257.9116607124058"
      ]
     },
     "metadata": {},
     "output_type": "display_data"
    },
    {
     "data": {
      "text/plain": [
       "2×3×4 Array{Float64,3}:\n",
       "[:, :, 1] =\n",
       " 0.894969  3.15761e-5  0.105\n",
       " 1.0       4.10316e-9  1.46408e-7\n",
       "\n",
       "[:, :, 2] =\n",
       " 0.278484  3.5913e-6    0.721513\n",
       " 1.0       2.88559e-10  4.58741e-7\n",
       "\n",
       "[:, :, 3] =\n",
       " 0.183086  7.06429e-6   0.816907\n",
       " 1.0       3.73287e-10  4.45538e-7\n",
       "\n",
       "[:, :, 4] =\n",
       " 0.691224  1.53917e-10  0.308776\n",
       " 0.999999  5.95525e-11  1.39523e-6"
      ]
     },
     "execution_count": 805,
     "metadata": {},
     "output_type": "execute_result"
    }
   ],
   "source": [
    "#Y = rand(5,4)\n",
    "\n",
    "Main.FHMMs.fit_sv2!(model_actual, X)"
   ]
  },
  {
   "cell_type": "code",
   "execution_count": 790,
   "metadata": {},
   "outputs": [
    {
     "data": {
      "text/plain": [
       "2×4 Array{Int64,2}:\n",
       " 3  2  1  1\n",
       " 3  1  1  1"
      ]
     },
     "execution_count": 790,
     "metadata": {},
     "output_type": "execute_result"
    }
   ],
   "source": [
    "actual"
   ]
  },
  {
   "cell_type": "code",
   "execution_count": 617,
   "metadata": {},
   "outputs": [
    {
     "name": "stdout",
     "output_type": "stream",
     "text": [
      "#1: score -153.97293769643957\n",
      "7.147611993016899e-5: converged at #4.\n",
      "#1: bound 0.0 improvement: -Inf\n",
      "#2: score -84.73110081338115\n",
      "0.0: converged at #3.\n",
      "#2: bound -153.97293769643957 improvement: 0.44970134309946047\n",
      "#3: score 787.9900923859408\n",
      "0.0: converged at #1.\n",
      "#3: bound -84.73110081338115 improvement: 10.299892068220334\n",
      "#4: score 787.9900923859408\n",
      "0.0: converged at #1.\n",
      "#4: bound 787.9900923859408 improvement: 0.0\n",
      "#4 converged\n"
     ]
    },
    {
     "ename": "LoadError",
     "evalue": "PosDefException: matrix is not positive definite; Cholesky factorization failed.",
     "output_type": "error",
     "traceback": [
      "PosDefException: matrix is not positive definite; Cholesky factorization failed.",
      "",
      "Stacktrace:",
      " [1] checkpositivedefinite at C:\\buildbot\\worker\\package_win64\\build\\usr\\share\\julia\\stdlib\\v1.5\\LinearAlgebra\\src\\factorization.jl:18 [inlined]",
      " [2] cholesky!(::Hermitian{Float64,Array{Float64,2}}, ::Val{false}; check::Bool) at C:\\buildbot\\worker\\package_win64\\build\\usr\\share\\julia\\stdlib\\v1.5\\LinearAlgebra\\src\\cholesky.jl:219",
      " [3] cholesky!(::Array{Float64,2}, ::Val{false}; check::Bool) at C:\\buildbot\\worker\\package_win64\\build\\usr\\share\\julia\\stdlib\\v1.5\\LinearAlgebra\\src\\cholesky.jl:251",
      " [4] #cholesky#130 at C:\\buildbot\\worker\\package_win64\\build\\usr\\share\\julia\\stdlib\\v1.5\\LinearAlgebra\\src\\cholesky.jl:344 [inlined]",
      " [5] cholesky at C:\\buildbot\\worker\\package_win64\\build\\usr\\share\\julia\\stdlib\\v1.5\\LinearAlgebra\\src\\cholesky.jl:344 [inlined] (repeats 2 times)",
      " [6] PDMat at C:\\Users\\nickh\\.julia\\packages\\PDMats\\G0Prn\\src\\pdmat.jl:19 [inlined]",
      " [7] MvNormal(::Array{Float64,1}, ::Array{Float64,2}) at C:\\Users\\nickh\\.julia\\packages\\Distributions\\KFhcx\\src\\multivariate\\mvnormal.jl:211",
      " [8] decode_full(::Main.FHMMs.FHMM, ::Array{Float64,2}) at .\\In[569]:17",
      " [9] top-level scope at In[617]:4",
      " [10] include_string(::Function, ::Module, ::String, ::String) at .\\loading.jl:1091"
     ]
    }
   ],
   "source": [
    "X, actual = generate(model_actual, 4)\n",
    "model_complete = Main.FHMMs.FHMM(D,K,M)\n",
    "result = Main.FHMMs.fit!(model_complete,X,maxiter=5000,verbose=true)    \n",
    "decode_full(model_complete, X)"
   ]
  },
  {
   "cell_type": "code",
   "execution_count": 573,
   "metadata": {},
   "outputs": [
    {
     "data": {
      "text/plain": [
       "2×4 Array{Int64,2}:\n",
       " 1  1  1  1\n",
       " 2  3  2  3"
      ]
     },
     "execution_count": 573,
     "metadata": {},
     "output_type": "execute_result"
    }
   ],
   "source": [
    "actual"
   ]
  },
  {
   "cell_type": "code",
   "execution_count": null,
   "metadata": {},
   "outputs": [],
   "source": [
    "timesteps=10\n",
    "num_observations = 100\n",
    "\n",
    "theta_sampled = sample_states(model_actual, timesteps, 1000)\n",
    "j = 0\n",
    "for i in 1:num_observations\n",
    "    X,actual_states = generate(model_actual, timesteps)\n",
    "    estimated_states = decode(model_actual,X, theta_sampled)\n",
    "    j += sum(actual_states .== estimated_states)\n",
    "end\n",
    "j / (num_observations * timesteps * model_actual.M)"
   ]
  },
  {
   "cell_type": "code",
   "execution_count": null,
   "metadata": {},
   "outputs": [],
   "source": [
    "j = 0\n",
    "for i in 1:num_observations\n",
    "    X,actual_states = generate(model_actual, timesteps)\n",
    "    estimated_states = decode_full(model_actual,X)\n",
    "    j += sum(actual_states .== estimated_states)\n",
    "end\n",
    "j / (num_observations * timesteps * model_actual.M)"
   ]
  },
  {
   "cell_type": "code",
   "execution_count": null,
   "metadata": {},
   "outputs": [],
   "source": [
    "model_learn = Main.FHMMs.FHMM(D,K,M)\n",
    "j = 0\n",
    "num_observations = 50\n",
    "for i=1:num_observations\n",
    "    X,actual_states = generate(model_actual, timesteps)\n",
    "    \n",
    "    result = Main.FHMMs.fit!(model_learn,X,maxiter=100)    \n",
    "    \n",
    "    estimated_states = decode_full(model_learn,X)\n",
    "    j += sum(actual_states .== estimated_states)\n",
    "end\n",
    "j / (num_observations * timesteps * model_actual.M)"
   ]
  },
  {
   "cell_type": "code",
   "execution_count": null,
   "metadata": {},
   "outputs": [],
   "source": [
    "timesteps=10\n",
    "model_learn = Main.FHMMs.FHMM(D,K,M)\n",
    "j = 0\n",
    "num_observations = 100\n",
    "for i=1:num_observations\n",
    "    X,actual_states = generate(model_actual, timesteps)\n",
    "    result = Main.FHMMs.fit!(model_learn,X,maxiter=100,fzero=true)    \n",
    "    for i in 1:D\n",
    "        model_learn.C[i, i] += 0.0001\n",
    "    end\n",
    "    #println(cholesky(Hermitian(Symmetric(model_learn.C))))\n",
    "    estimated_states = decode(model_learn,X, result.θ)\n",
    "    j += sum(actual_states .== estimated_states)\n",
    "    println(j / (i * timesteps * model_actual.M))\n",
    "end\n",
    "j / (num_observations * timesteps * model_actual.M)"
   ]
  },
  {
   "cell_type": "code",
   "execution_count": null,
   "metadata": {},
   "outputs": [],
   "source": []
  }
 ],
 "metadata": {
  "kernelspec": {
   "display_name": "Julia 1.5.3",
   "language": "julia",
   "name": "julia-1.5"
  },
  "language_info": {
   "file_extension": ".jl",
   "mimetype": "application/julia",
   "name": "julia",
   "version": "1.5.3"
  }
 },
 "nbformat": 4,
 "nbformat_minor": 2
}
