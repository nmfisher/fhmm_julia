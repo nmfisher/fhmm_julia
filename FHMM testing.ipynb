{
 "cells": [
  {
   "cell_type": "code",
   "execution_count": null,
   "metadata": {},
   "outputs": [
    {
     "name": "stderr",
     "output_type": "stream",
     "text": [
      "\u001b[32m\u001b[1m   Updating\u001b[22m\u001b[39m registry at `C:\\Users\\nickh\\.julia\\registries\\General`\n"
     ]
    }
   ],
   "source": [
    "using Pkg\n",
    "Pkg.add(\"InvertedIndices\")\n",
    "rand(3,3,3)[Not(1), 1,1]"
   ]
  },
  {
   "cell_type": "code",
   "execution_count": 1,
   "metadata": {},
   "outputs": [
    {
     "data": {
      "text/plain": [
       "\"γ\""
      ]
     },
     "metadata": {},
     "output_type": "display_data"
    },
    {
     "data": {
      "text/plain": [
       "2×3×4 Array{Float64,3}:\n",
       "[:, :, 1] =\n",
       " 0.542021  0.0507338  0.407246\n",
       " 0.911619  0.0202221  0.0681593\n",
       "\n",
       "[:, :, 2] =\n",
       " 0.0141049  0.977909  0.0079864\n",
       " 0.195217   0.574914  0.229869\n",
       "\n",
       "[:, :, 3] =\n",
       " 0.388302  0.306767  0.304931\n",
       " 0.539337  0.357787  0.102876\n",
       "\n",
       "[:, :, 4] =\n",
       " 0.0355507  0.476464  0.487986\n",
       " 0.198595   0.292964  0.508441"
      ]
     },
     "metadata": {},
     "output_type": "display_data"
    },
    {
     "data": {
      "text/plain": [
       "\"ξ\""
      ]
     },
     "metadata": {},
     "output_type": "display_data"
    },
    {
     "data": {
      "text/plain": [
       "2×3×3×3 Array{Float64,4}:\n",
       "[:, :, 1, 1] =\n",
       " 0.00649174  0.0019861  0.00562706\n",
       " 0.137247    0.0204414  0.0375283\n",
       "\n",
       "[:, :, 2, 1] =\n",
       " 0.45008   0.137699   0.39013\n",
       " 0.404193  0.0601998  0.110521\n",
       "\n",
       "[:, :, 3, 1] =\n",
       " 0.00367572  0.00112456  0.00318612\n",
       " 0.16161     0.0240699   0.0441899\n",
       "\n",
       "[:, :, 1, 2] =\n",
       " 0.0385259  0.320787  0.0289897\n",
       " 0.141885   0.243488  0.153963\n",
       "\n",
       "[:, :, 2, 2] =\n",
       " 0.0304362  0.253428  0.0229024\n",
       " 0.0941241  0.161526  0.102137\n",
       "\n",
       "[:, :, 3, 2] =\n",
       " 0.0302541  0.251911   0.0227654\n",
       " 0.0270638  0.0464442  0.0293678\n",
       "\n",
       "[:, :, 1, 3] =\n",
       " 0.0128111  0.0113869  0.0113528\n",
       " 0.0882162  0.0718507  0.0385279\n",
       "\n",
       "[:, :, 2, 3] =\n",
       " 0.171699  0.152611  0.152154\n",
       " 0.130135  0.105993  0.0568358\n",
       "\n",
       "[:, :, 3, 3] =\n",
       " 0.175851  0.156302  0.155833\n",
       " 0.225851  0.183952  0.0986388"
      ]
     },
     "metadata": {},
     "output_type": "display_data"
    },
    {
     "data": {
      "text/plain": [
       "\"C⁻¹\""
      ]
     },
     "metadata": {},
     "output_type": "display_data"
    },
    {
     "data": {
      "text/plain": [
       "5×5 Array{Float64,2}:\n",
       "  0.244646   0.0202715    0.142736   -0.0359695   -0.0190717\n",
       "  0.0202715  0.469594     0.371658    0.00628677   0.00212293\n",
       "  0.142736   0.371658     0.69462    -0.0715104   -0.0628832\n",
       " -0.0359695  0.00628677  -0.0715104   0.14337     -0.0239619\n",
       " -0.0190717  0.00212293  -0.0628832  -0.0239619    0.282797"
      ]
     },
     "metadata": {},
     "output_type": "display_data"
    },
    {
     "data": {
      "text/plain": [
       "\"Δ\""
      ]
     },
     "metadata": {},
     "output_type": "display_data"
    },
    {
     "data": {
      "text/plain": [
       "3×1×2 Array{Float64,3}:\n",
       "[:, :, 1] =\n",
       " 1.0439961079568723\n",
       " 0.3595982285009036\n",
       " 0.4466692261536687\n",
       "\n",
       "[:, :, 2] =\n",
       " 1.0751895292176845\n",
       " 0.3666132987457177\n",
       " 0.5361998692516124"
      ]
     },
     "metadata": {},
     "output_type": "display_data"
    },
    {
     "data": {
      "text/plain": [
       "\"Ỹ\""
      ]
     },
     "metadata": {},
     "output_type": "display_data"
    },
    {
     "data": {
      "text/plain": [
       "5×2×4 Array{Float64,3}:\n",
       "[:, :, 1] =\n",
       " -0.118361   -0.114882\n",
       " -0.104985    0.0858128\n",
       "  0.0657767  -0.423337\n",
       "  0.239893   -0.0653341\n",
       "  0.0624169   0.522211\n",
       "\n",
       "[:, :, 2] =\n",
       " -0.417858  -0.402277\n",
       " -0.326121  -0.0794266\n",
       "  0.317326   0.105998\n",
       "  0.629649   0.21349\n",
       " -0.105709  -0.550634\n",
       "\n",
       "[:, :, 3] =\n",
       "  0.348909    0.404792\n",
       " -0.217617    0.00532211\n",
       "  0.0607457  -0.233567\n",
       " -0.140592   -0.507071\n",
       " -0.173747   -0.0541213\n",
       "\n",
       "[:, :, 4] =\n",
       "  0.382811   0.196487\n",
       " -0.168059  -0.0908822\n",
       "  0.122039  -0.0224227\n",
       " -0.174331  -0.408118\n",
       " -0.213008  -0.0808368"
      ]
     },
     "metadata": {},
     "output_type": "display_data"
    },
    {
     "data": {
      "text/plain": [
       "\"h pre exp\""
      ]
     },
     "metadata": {},
     "output_type": "display_data"
    },
    {
     "data": {
      "text/plain": [
       "3×4×2 Array{Float64,3}:\n",
       "[:, :, 1] =\n",
       " -0.567518  -0.673282  -0.554064  -0.491307\n",
       " -0.211182  -0.246109  -0.184303  -0.138106\n",
       " -0.237186  -0.290495  -0.257667  -0.223737\n",
       "\n",
       "[:, :, 2] =\n",
       " -0.829295  -0.626256  -0.607749  -0.550397\n",
       " -0.146532  -0.319517  -0.235599  -0.232778\n",
       " -0.488945  -0.335006  -0.275775  -0.256149"
      ]
     },
     "metadata": {},
     "output_type": "display_data"
    },
    {
     "data": {
      "text/plain": [
       "\"h\""
      ]
     },
     "metadata": {},
     "output_type": "display_data"
    },
    {
     "data": {
      "text/plain": [
       "3×4×2 Array{Float64,3}:\n",
       "[:, :, 1] =\n",
       " 0.566931  0.510032  0.57461   0.611826\n",
       " 0.809627  0.781837  0.831684  0.871007\n",
       " 0.788845  0.747893  0.772852  0.799525\n",
       "\n",
       "[:, :, 2] =\n",
       " 0.436357  0.534589  0.544575  0.576721\n",
       " 0.863698  0.7265    0.790097  0.792329\n",
       " 0.613273  0.715334  0.758984  0.774027"
      ]
     },
     "metadata": {},
     "output_type": "display_data"
    },
    {
     "data": {
      "text/plain": [
       "\"pi\""
      ]
     },
     "metadata": {},
     "output_type": "display_data"
    },
    {
     "data": {
      "text/plain": [
       "3×2 Array{Float64,2}:\n",
       " 0.542021   0.911619\n",
       " 0.0507338  0.0202221\n",
       " 0.407246   0.0681593"
      ]
     },
     "metadata": {},
     "output_type": "display_data"
    },
    {
     "data": {
      "text/plain": [
       "\"W\""
      ]
     },
     "metadata": {},
     "output_type": "display_data"
    },
    {
     "data": {
      "text/plain": [
       "5×3×2 Array{Float64,3}:\n",
       "[:, :, 1] =\n",
       "  1.09988     -0.795371  -1.10004\n",
       "  0.188807     0.381932   0.172825\n",
       " -0.00628198   0.340964   0.395437\n",
       " -0.618783     1.19571    1.39398\n",
       "  0.237686     0.737585   0.0588819\n",
       "\n",
       "[:, :, 2] =\n",
       "  2.19859     1.54686    0.14348\n",
       "  0.0626373   0.179343   0.0964054\n",
       " -0.0696114   0.0908848  0.208687\n",
       " -1.48662    -0.962006   0.104105\n",
       " -0.327589    0.275486   0.162057"
      ]
     },
     "metadata": {},
     "output_type": "display_data"
    },
    {
     "data": {
      "text/plain": [
       "\"P\""
      ]
     },
     "metadata": {},
     "output_type": "display_data"
    },
    {
     "data": {
      "text/plain": [
       "3×3×2 Array{Float64,3}:\n",
       "[:, :, 1] =\n",
       " 0.0612315  0.4884    0.291296\n",
       " 0.353823   0.40717   0.568396\n",
       " 0.0486744  0.423231  0.252422\n",
       "\n",
       "[:, :, 2] =\n",
       " 0.223153  0.659499  1.03397\n",
       " 0.203977  0.34391   0.634729\n",
       " 0.13973   0.282807  0.42952"
      ]
     },
     "metadata": {},
     "output_type": "display_data"
    },
    {
     "data": {
      "text/plain": [
       "\"C\""
      ]
     },
     "metadata": {},
     "output_type": "display_data"
    },
    {
     "data": {
      "text/plain": [
       "5×5 Array{Float64,2}:\n",
       " -0.206686  -0.207655  -0.213451  -0.248979   -0.222567\n",
       " -0.353904  -0.242407  -0.242383  -0.197494   -0.260321\n",
       " -0.268688  -0.177478  -0.142266  -0.0868459  -0.252901\n",
       " -0.309019  -0.14324   -0.124714  -0.013834   -0.181149\n",
       " -0.350506  -0.223079  -0.230464  -0.175296   -0.221209"
      ]
     },
     "metadata": {},
     "output_type": "display_data"
    },
    {
     "data": {
      "text/plain": [
       "\"γ\""
      ]
     },
     "metadata": {},
     "output_type": "display_data"
    },
    {
     "data": {
      "text/plain": [
       "2×3×4 Array{Float64,3}:\n",
       "[:, :, 1] =\n",
       " 0.397882  0.102392   0.499726\n",
       " 0.891766  0.0484255  0.0598082\n",
       "\n",
       "[:, :, 2] =\n",
       " 0.170362  0.513261  0.316377\n",
       " 0.337727  0.388224  0.274049\n",
       "\n",
       "[:, :, 3] =\n",
       " 0.170358  0.564191  0.265451\n",
       " 0.316219  0.410714  0.273067\n",
       "\n",
       "[:, :, 4] =\n",
       " 0.268068  0.381626  0.350307\n",
       " 0.269109  0.369716  0.361175"
      ]
     },
     "metadata": {},
     "output_type": "display_data"
    },
    {
     "data": {
      "text/plain": [
       "\"ξ\""
      ]
     },
     "metadata": {},
     "output_type": "display_data"
    },
    {
     "data": {
      "text/plain": [
       "2×3×3×3 Array{Float64,4}:\n",
       "[:, :, 1, 1] =\n",
       " 0.0142399  0.010999    0.0118341\n",
       " 0.114164   0.00458183  0.0075117\n",
       "\n",
       "[:, :, 2, 1] =\n",
       " 0.342194  0.0381336   0.31001\n",
       " 0.387844  0.00888014  0.0174766\n",
       "\n",
       "[:, :, 3, 1] =\n",
       " 0.125805  0.0328133  0.11397\n",
       " 0.429236  0.0115694  0.0187368\n",
       "\n",
       "[:, :, 1, 2] =\n",
       " 0.00695559  0.0616118  0.00810779\n",
       " 0.0467189   0.0580344  0.0391443\n",
       "\n",
       "[:, :, 2, 2] =\n",
       " 0.183738  0.23481   0.233476\n",
       " 0.179331  0.127087  0.102901\n",
       "\n",
       "[:, :, 3, 2] =\n",
       " 0.0515604  0.154224  0.0655165\n",
       " 0.18693    0.155946  0.103907\n",
       "\n",
       "[:, :, 1, 3] =\n",
       " 0.01254    0.10488    0.0134075\n",
       " 0.0355679  0.0471692  0.0310399\n",
       "\n",
       "[:, :, 2, 3] =\n",
       " 0.142394  0.171821  0.165965\n",
       " 0.144414  0.10926   0.0863101\n",
       "\n",
       "[:, :, 3, 3] =\n",
       " 0.0779582  0.220173  0.0908609\n",
       " 0.221185   0.196996  0.128057"
      ]
     },
     "metadata": {},
     "output_type": "display_data"
    },
    {
     "data": {
      "text/plain": [
       "\"C⁻¹\""
      ]
     },
     "metadata": {},
     "output_type": "display_data"
    },
    {
     "data": {
      "text/plain": [
       "5×5 Array{Float64,2}:\n",
       " -2.33349e15   5.58846e15  -1.57133e14  -1.54753e15  -2.78181e15\n",
       "  5.9113e15   -1.41570e16   3.98056e14   3.92029e15   7.04702e15\n",
       "  1.51359e15  -3.62489e15   1.01922e14   1.00379e15   1.80439e15\n",
       " -2.93986e15   7.04065e15  -1.97964e14  -1.94967e15  -3.50468e15\n",
       " -1.51111e15   3.61896e15  -1.01756e14  -1.00215e15  -1.80144e15"
      ]
     },
     "metadata": {},
     "output_type": "display_data"
    },
    {
     "data": {
      "text/plain": [
       "\"Δ\""
      ]
     },
     "metadata": {},
     "output_type": "display_data"
    },
    {
     "data": {
      "text/plain": [
       "3×1×2 Array{Float64,3}:\n",
       "[:, :, 1] =\n",
       " 16.52237885554584\n",
       " 18.62971005213181\n",
       " 15.344800218830319\n",
       "\n",
       "[:, :, 2] =\n",
       " 93.32149307588575\n",
       " 11.140484014874682\n",
       " -1.3540886214437085"
      ]
     },
     "metadata": {},
     "output_type": "display_data"
    },
    {
     "data": {
      "text/plain": [
       "\"Ỹ\""
      ]
     },
     "metadata": {},
     "output_type": "display_data"
    },
    {
     "data": {
      "text/plain": [
       "5×2×4 Array{Float64,3}:\n",
       "[:, :, 1] =\n",
       "  0.693001  -1.54465\n",
       "  0.339561   0.469847\n",
       "  0.147292   0.42251\n",
       " -0.162219   1.7767\n",
       "  0.721307   1.18993\n",
       "\n",
       "[:, :, 2] =\n",
       "  0.662722   -1.28853\n",
       "  0.0229596   0.188634\n",
       "  0.16281     0.392886\n",
       " -0.199867    1.59646\n",
       " -0.381656    0.0153133\n",
       "\n",
       "[:, :, 3] =\n",
       "  1.48711    -0.436003\n",
       "  0.125813    0.299546\n",
       "  0.0307705   0.254738\n",
       " -0.921516    0.85449\n",
       "  0.0193719   0.437824\n",
       "\n",
       "[:, :, 4] =\n",
       "  1.22296    -0.386459\n",
       "  0.0628805   0.201809\n",
       "  0.119003    0.295722\n",
       " -0.751155    0.745734\n",
       " -0.061981    0.231618"
      ]
     },
     "metadata": {},
     "output_type": "display_data"
    },
    {
     "data": {
      "text/plain": [
       "\"h pre exp\""
      ]
     },
     "metadata": {},
     "output_type": "display_data"
    },
    {
     "data": {
      "text/plain": [
       "3×4×2 Array{Float64,3}:\n",
       "[:, :, 1] =\n",
       "  -6.84885   15.657    18.2253   14.2584\n",
       " -12.1193   -27.8693  -33.7628  -30.7072\n",
       " -11.8352   -26.5893  -34.2103  -30.0252\n",
       "\n",
       "[:, :, 2] =\n",
       " -131.536   -69.1527   -62.9864   -55.4319\n",
       "  -25.2548  -21.605    -14.2349   -12.8138\n",
       "   27.9351   -1.15243    1.73222   -0.567705"
      ]
     },
     "metadata": {},
     "output_type": "display_data"
    },
    {
     "data": {
      "text/plain": [
       "\"h\""
      ]
     },
     "metadata": {},
     "output_type": "display_data"
    },
    {
     "data": {
      "text/plain": [
       "3×4×2 Array{Float64,3}:\n",
       "[:, :, 1] =\n",
       " 0.00106067  6.30598e6    8.22529e7    1.55719e6\n",
       " 5.45343e-6  7.87972e-13  2.17262e-15  4.61361e-14\n",
       " 7.24512e-6  2.83395e-12  1.38887e-15  9.12517e-14\n",
       "\n",
       "[:, :, 2] =\n",
       " 7.49006e-58  9.27649e-31  4.41951e-28  8.43822e-25\n",
       " 1.07645e-11  4.14047e-10  6.57441e-7   2.723e-6\n",
       " 1.35542e12   0.315868     5.65321      0.566825"
      ]
     },
     "metadata": {},
     "output_type": "display_data"
    },
    {
     "data": {
      "text/plain": [
       "\"pi\""
      ]
     },
     "metadata": {},
     "output_type": "display_data"
    },
    {
     "data": {
      "text/plain": [
       "3×2 Array{Float64,2}:\n",
       " 0.397882  0.891766\n",
       " 0.102392  0.0484255\n",
       " 0.499726  0.0598082"
      ]
     },
     "metadata": {},
     "output_type": "display_data"
    },
    {
     "data": {
      "text/plain": [
       "\"W\""
      ]
     },
     "metadata": {},
     "output_type": "display_data"
    },
    {
     "data": {
      "text/plain": [
       "5×3×2 Array{Float64,3}:\n",
       "[:, :, 1] =\n",
       "  15.6166    1.53961     2.2793\n",
       "   2.06757   0.679373    0.587568\n",
       "  -2.09688  -0.0926139  -0.198829\n",
       " -13.5516   -0.786362   -1.42381\n",
       "   8.23684   1.71722     1.34962\n",
       "\n",
       "[:, :, 2] =\n",
       "  0.142335   -14.8285    1.38539\n",
       "  0.0529222   -1.90527   0.0175738\n",
       "  0.23755      2.58973   0.149083\n",
       "  0.244046    13.4058   -1.0273\n",
       " -0.249621    -8.04152   0.0773338"
      ]
     },
     "metadata": {},
     "output_type": "display_data"
    },
    {
     "data": {
      "text/plain": [
       "\"P\""
      ]
     },
     "metadata": {},
     "output_type": "display_data"
    },
    {
     "data": {
      "text/plain": [
       "3×3×2 Array{Float64,3}:\n",
       "[:, :, 1] =\n",
       " 0.0456748  0.566453  0.236071\n",
       " 0.240307   0.376969  0.376504\n",
       " 0.045152   0.60131   0.249962\n",
       "\n",
       "[:, :, 2] =\n",
       " 0.127094   0.839769  1.37966\n",
       " 0.0710258  0.2894    0.600588\n",
       " 0.0502654  0.243919  0.413068"
      ]
     },
     "metadata": {},
     "output_type": "display_data"
    },
    {
     "data": {
      "text/plain": [
       "\"C\""
      ]
     },
     "metadata": {},
     "output_type": "display_data"
    },
    {
     "data": {
      "text/plain": [
       "5×5 Array{Float64,2}:\n",
       " -0.156621   -0.224565   -0.200213    -0.272961    -0.306116\n",
       "  0.0213968   0.0253803   0.00969271   0.00962942   0.057218\n",
       "  0.0225024   0.0311142   0.0283725    0.0373574    0.0427069\n",
       "  0.138879    0.200525    0.178166     0.24423      0.273279\n",
       "  0.0779088   0.0871092   0.0288893    0.0214527    0.207654"
      ]
     },
     "metadata": {},
     "output_type": "display_data"
    },
    {
     "data": {
      "text/plain": [
       "\"γ\""
      ]
     },
     "metadata": {},
     "output_type": "display_data"
    },
    {
     "data": {
      "text/plain": [
       "2×3×4 Array{Float64,3}:\n",
       "[:, :, 1] =\n",
       " 0.999906      3.57883e-5   5.79252e-5\n",
       " 1.52077e-137  7.42521e-47  1.0\n",
       "\n",
       "[:, :, 2] =\n",
       " 1.0          8.21496e-38  1.99655e-37\n",
       " 2.88077e-59  2.4983e-18   1.0\n",
       "\n",
       "[:, :, 3] =\n",
       " 1.0          8.17444e-46  3.01325e-46\n",
       " 2.02772e-56  1.83772e-14  1.0\n",
       "\n",
       "[:, :, 4] =\n",
       " 1.0          2.96277e-20  5.86001e-20\n",
       " 1.48867e-24  4.80393e-6   0.999995"
      ]
     },
     "metadata": {},
     "output_type": "display_data"
    },
    {
     "data": {
      "text/plain": [
       "\"ξ\""
      ]
     },
     "metadata": {},
     "output_type": "display_data"
    },
    {
     "data": {
      "text/plain": [
       "2×3×3×3 Array{Float64,4}:\n",
       "[:, :, 1, 1] =\n",
       " 0.984793      0.00685546   0.00835195\n",
       " 7.30317e-128  3.18519e-83  3.50555e-60\n",
       "\n",
       "[:, :, 2, 1] =\n",
       " 1.00332e-36  8.83451e-40  9.13723e-39\n",
       " 4.18488e-86  1.12553e-41  1.47526e-18\n",
       "\n",
       "[:, :, 3, 1] =\n",
       " 1.01623e-36  2.14447e-39  9.23134e-39\n",
       " 2.75203e-68  9.34951e-24  1.0\n",
       "\n",
       "[:, :, 1, 2] =\n",
       " 1.0          6.57427e-19  4.44263e-19\n",
       " 1.83227e-86  4.57033e-66  2.46749e-57\n",
       "\n",
       "[:, :, 2, 2] =\n",
       " 1.01378e-44  8.43035e-64  4.83637e-63\n",
       " 1.09722e-43  1.68772e-23  1.08518e-14\n",
       "\n",
       "[:, :, 3, 2] =\n",
       " 1.55741e-45  3.10375e-64  7.41093e-64\n",
       " 9.80912e-30  1.9059e-9    1.0\n",
       "\n",
       "[:, :, 1, 3] =\n",
       " 1.0          1.3897e-22   1.66921e-23\n",
       " 3.58082e-53  2.97685e-32  1.81154e-25\n",
       "\n",
       "[:, :, 2, 3] =\n",
       " 3.6744e-19   6.45893e-42  6.58612e-42\n",
       " 7.63509e-34  3.91414e-13  2.83675e-6\n",
       "\n",
       "[:, :, 3, 3] =\n",
       " 3.02876e-19  1.27592e-41  5.4151e-42\n",
       " 2.61113e-28  1.69089e-7   0.999997"
      ]
     },
     "metadata": {},
     "output_type": "display_data"
    },
    {
     "data": {
      "text/plain": [
       "\"C⁻¹\""
      ]
     },
     "metadata": {},
     "output_type": "display_data"
    },
    {
     "data": {
      "text/plain": [
       "5×5 Array{Float64,2}:\n",
       " -1.757e16     4.4509e16    1.13965e16  -2.21356e16  -1.13779e16\n",
       "  4.4509e16   -1.12752e17  -2.88702e16   5.60749e16   2.8823e16\n",
       "  1.13965e16  -2.88702e16  -7.39221e15   1.4358e16    7.38013e15\n",
       " -2.21356e16   5.60749e16   1.4358e16   -2.78876e16  -1.43345e16\n",
       " -1.13779e16   2.8823e16    7.38013e15  -1.43345e16  -7.36807e15"
      ]
     },
     "metadata": {},
     "output_type": "display_data"
    },
    {
     "data": {
      "text/plain": [
       "\"Δ\""
      ]
     },
     "metadata": {},
     "output_type": "display_data"
    },
    {
     "data": {
      "text/plain": [
       "3×1×2 Array{Float64,3}:\n",
       "[:, :, 1] =\n",
       " -15978.484053129938\n",
       "  -2277.2767776153687\n",
       "  -4358.998081833226\n",
       "\n",
       "[:, :, 2] =\n",
       "  -250.67714278712523\n",
       " 25790.457656804778\n",
       " -1609.5245626336073"
      ]
     },
     "metadata": {},
     "output_type": "display_data"
    },
    {
     "data": {
      "text/plain": [
       "\"Ỹ\""
      ]
     },
     "metadata": {},
     "output_type": "display_data"
    },
    {
     "data": {
      "text/plain": [
       "5×2×4 Array{Float64,3}:\n",
       "[:, :, 1] =\n",
       " -15.1158   -0.885931\n",
       "  -1.52728   0.522582\n",
       "   2.47402   0.228232\n",
       "  13.961     1.43792\n",
       "  -7.31538   0.843492\n",
       "\n",
       "[:, :, 2] =\n",
       " -15.5227   -1.29155\n",
       "  -1.76173   0.28826\n",
       "   2.55873   0.312768\n",
       "  14.301     1.77675\n",
       "  -8.1808   -0.0212942\n",
       "\n",
       "[:, :, 3] =\n",
       " -14.6828   -0.451664\n",
       "  -1.64823   0.401763\n",
       "   2.42392   0.177956\n",
       "  13.5693    1.04501\n",
       "  -7.74521   0.414299\n",
       "\n",
       "[:, :, 4] =\n",
       " -14.7877   -0.556395\n",
       "  -1.74778   0.302226\n",
       "   2.48285   0.236869\n",
       "  13.5792    1.05484\n",
       "  -7.93299   0.226548"
      ]
     },
     "metadata": {},
     "output_type": "display_data"
    },
    {
     "data": {
      "text/plain": [
       "\"h pre exp\""
      ]
     },
     "metadata": {},
     "output_type": "display_data"
    },
    {
     "data": {
      "text/plain": [
       "3×4×2 Array{Float64,3}:\n",
       "[:, :, 1] =\n",
       " -25257.8   -25433.9  -25430.2   -23625.5\n",
       "  -1707.16   -1731.8   -1726.48   -1588.71\n",
       "  -3090.82   -3126.4   -3118.19   -2855.54\n",
       "\n",
       "[:, :, 2] =\n",
       "  -195.753   -192.589   -196.386   -174.265\n",
       " 15680.1    15849.7    15860.6    14123.9\n",
       " -1693.79   -1694.49   -1704.05   -1533.49"
      ]
     },
     "metadata": {},
     "output_type": "display_data"
    },
    {
     "data": {
      "text/plain": [
       "\"h\""
      ]
     },
     "metadata": {},
     "output_type": "display_data"
    },
    {
     "data": {
      "text/plain": [
       "3×4×2 Array{Float64,3}:\n",
       "[:, :, 1] =\n",
       " 0.0  0.0  0.0  0.0\n",
       " 0.0  0.0  0.0  0.0\n",
       " 0.0  0.0  0.0  0.0\n",
       "\n",
       "[:, :, 2] =\n",
       "  9.67176e-86   2.28996e-84   5.13606e-86   2.07849e-76\n",
       " Inf           Inf           Inf           Inf\n",
       "  0.0           0.0           0.0           0.0"
      ]
     },
     "metadata": {},
     "output_type": "display_data"
    },
    {
     "data": {
      "text/plain": [
       "\"pi\""
      ]
     },
     "metadata": {},
     "output_type": "display_data"
    },
    {
     "data": {
      "text/plain": [
       "3×2 Array{Float64,2}:\n",
       " 0.999906    1.52077e-137\n",
       " 3.57883e-5  7.42521e-47\n",
       " 5.79252e-5  1.0"
      ]
     },
     "metadata": {},
     "output_type": "display_data"
    },
    {
     "data": {
      "text/plain": [
       "\"W\""
      ]
     },
     "metadata": {},
     "output_type": "display_data"
    },
    {
     "data": {
      "text/plain": [
       "5×3×2 Array{Float64,3}:\n",
       "[:, :, 1] =\n",
       "  13462.7    -2.02592e-10    9628.54\n",
       "  -2553.37    2.47692e-11    -476.405\n",
       "   -289.807   5.72466e-12    -341.88\n",
       " -15251.9     2.28675e-10  -10824.7\n",
       "  -1395.73   -2.94115e-11    3984.7\n",
       "\n",
       "[:, :, 2] =\n",
       "  52137.5    15584.3    -13462.2\n",
       "  -6354.57    -771.087    2553.74\n",
       "  -1475.23    -553.351     290.202\n",
       " -58848.9   -17520.4     15252.3\n",
       "   7642.38    6449.45     1396.0"
      ]
     },
     "metadata": {},
     "output_type": "display_data"
    },
    {
     "data": {
      "text/plain": [
       "\"P\""
      ]
     },
     "metadata": {},
     "output_type": "display_data"
    },
    {
     "data": {
      "text/plain": [
       "3×3×2 Array{Float64,3}:\n",
       "[:, :, 1] =\n",
       " 0.994962    1.0267e-14   5.22874e-15\n",
       " 0.00228523  2.4866e-35   3.72416e-35\n",
       " 0.00278407  2.55498e-34  1.5946e-34\n",
       "\n",
       "[:, :, 2] =\n",
       " 1763.43         4.15409e-20  9.03075e-29\n",
       "    1.46599e24  21.296        5.69984e-8\n",
       "    8.92122e30   1.54342e8    0.999999"
      ]
     },
     "metadata": {},
     "output_type": "display_data"
    },
    {
     "data": {
      "text/plain": [
       "\"C\""
      ]
     },
     "metadata": {},
     "output_type": "display_data"
    },
    {
     "data": {
      "text/plain": [
       "5×5 Array{Float64,2}:\n",
       " -9.55948   -6.49857   -6.38307   -5.04461   -7.239\n",
       " -0.989327  -0.660426  -0.657702  -0.511518  -0.7194\n",
       "  1.36148    0.923253   0.908708   0.716318   1.02584\n",
       "  8.66534    5.89396    5.78648    4.57599    6.56872\n",
       " -4.60284   -3.09018   -3.06334   -2.39607   -3.38747"
      ]
     },
     "metadata": {},
     "output_type": "display_data"
    },
    {
     "data": {
      "text/plain": [
       "\"γ\""
      ]
     },
     "metadata": {},
     "output_type": "display_data"
    },
    {
     "data": {
      "text/plain": [
       "2×3×4 Array{Float64,3}:\n",
       "[:, :, 1] =\n",
       " NaN  NaN  NaN\n",
       " NaN  NaN  NaN\n",
       "\n",
       "[:, :, 2] =\n",
       " NaN  NaN  NaN\n",
       " NaN  NaN  NaN\n",
       "\n",
       "[:, :, 3] =\n",
       " NaN  NaN  NaN\n",
       " NaN  NaN  NaN\n",
       "\n",
       "[:, :, 4] =\n",
       " NaN  NaN  NaN\n",
       " NaN  NaN  NaN"
      ]
     },
     "metadata": {},
     "output_type": "display_data"
    },
    {
     "data": {
      "text/plain": [
       "\"ξ\""
      ]
     },
     "metadata": {},
     "output_type": "display_data"
    },
    {
     "data": {
      "text/plain": [
       "2×3×3×3 Array{Float64,4}:\n",
       "[:, :, 1, 1] =\n",
       " NaN  NaN  NaN\n",
       " NaN  NaN  NaN\n",
       "\n",
       "[:, :, 2, 1] =\n",
       " NaN  NaN  NaN\n",
       " NaN  NaN  NaN\n",
       "\n",
       "[:, :, 3, 1] =\n",
       " NaN  NaN  NaN\n",
       " NaN  NaN  NaN\n",
       "\n",
       "[:, :, 1, 2] =\n",
       " NaN  NaN  NaN\n",
       " NaN  NaN  NaN\n",
       "\n",
       "[:, :, 2, 2] =\n",
       " NaN  NaN  NaN\n",
       " NaN  NaN  NaN\n",
       "\n",
       "[:, :, 3, 2] =\n",
       " NaN  NaN  NaN\n",
       " NaN  NaN  NaN\n",
       "\n",
       "[:, :, 1, 3] =\n",
       " NaN  NaN  NaN\n",
       " NaN  NaN  NaN\n",
       "\n",
       "[:, :, 2, 3] =\n",
       " NaN  NaN  NaN\n",
       " NaN  NaN  NaN\n",
       "\n",
       "[:, :, 3, 3] =\n",
       " NaN  NaN  NaN\n",
       " NaN  NaN  NaN"
      ]
     },
     "metadata": {},
     "output_type": "display_data"
    },
    {
     "data": {
      "text/plain": [
       "\"C⁻¹\""
      ]
     },
     "metadata": {},
     "output_type": "display_data"
    },
    {
     "data": {
      "text/plain": [
       "5×5 Array{Float64,2}:\n",
       "  4.22355e14  -1.06993e15  -2.73955e14   5.32105e14   2.73507e14\n",
       " -1.06993e15   2.71039e15   6.93996e14  -1.34795e15  -6.92861e14\n",
       " -2.73955e14   6.93996e14   1.77697e14  -3.45143e14  -1.77407e14\n",
       "  5.32105e14  -1.34795e15  -3.45143e14   6.70376e14   3.44579e14\n",
       "  2.73507e14  -6.92861e14  -1.77407e14   3.44579e14   1.77117e14"
      ]
     },
     "metadata": {},
     "output_type": "display_data"
    },
    {
     "data": {
      "text/plain": [
       "\"Δ\""
      ]
     },
     "metadata": {},
     "output_type": "display_data"
    },
    {
     "data": {
      "text/plain": [
       "3×1×2 Array{Float64,3}:\n",
       "[:, :, 1] =\n",
       " 1.0110855235514666e10\n",
       " 2.5182987408827526e-18\n",
       " 6.316233068586361e9\n",
       "\n",
       "[:, :, 2] =\n",
       " 1.665186487493188e11\n",
       " 1.655337398953288e10\n",
       " 1.050763121000628e10"
      ]
     },
     "metadata": {},
     "output_type": "display_data"
    },
    {
     "data": {
      "text/plain": [
       "\"Ỹ\""
      ]
     },
     "metadata": {},
     "output_type": "display_data"
    },
    {
     "data": {
      "text/plain": [
       "5×2×4 Array{Float64,3}:\n",
       "[:, :, 1] =\n",
       " NaN  NaN\n",
       " NaN  NaN\n",
       " NaN  NaN\n",
       " NaN  NaN\n",
       " NaN  NaN\n",
       "\n",
       "[:, :, 2] =\n",
       " NaN  NaN\n",
       " NaN  NaN\n",
       " NaN  NaN\n",
       " NaN  NaN\n",
       " NaN  NaN\n",
       "\n",
       "[:, :, 3] =\n",
       " NaN  NaN\n",
       " NaN  NaN\n",
       " NaN  NaN\n",
       " NaN  NaN\n",
       " NaN  NaN\n",
       "\n",
       "[:, :, 4] =\n",
       " NaN  NaN\n",
       " NaN  NaN\n",
       " NaN  NaN\n",
       " NaN  NaN\n",
       " NaN  NaN"
      ]
     },
     "metadata": {},
     "output_type": "display_data"
    },
    {
     "data": {
      "text/plain": [
       "\"h pre exp\""
      ]
     },
     "metadata": {},
     "output_type": "display_data"
    },
    {
     "data": {
      "text/plain": [
       "3×4×2 Array{Float64,3}:\n",
       "[:, :, 1] =\n",
       " NaN  NaN  NaN  NaN\n",
       " NaN  NaN  NaN  NaN\n",
       " NaN  NaN  NaN  NaN\n",
       "\n",
       "[:, :, 2] =\n",
       " NaN  NaN  NaN  NaN\n",
       " NaN  NaN  NaN  NaN\n",
       " NaN  NaN  NaN  NaN"
      ]
     },
     "metadata": {},
     "output_type": "display_data"
    },
    {
     "data": {
      "text/plain": [
       "\"h\""
      ]
     },
     "metadata": {},
     "output_type": "display_data"
    },
    {
     "data": {
      "text/plain": [
       "3×4×2 Array{Float64,3}:\n",
       "[:, :, 1] =\n",
       " NaN  NaN  NaN  NaN\n",
       " NaN  NaN  NaN  NaN\n",
       " NaN  NaN  NaN  NaN\n",
       "\n",
       "[:, :, 2] =\n",
       " NaN  NaN  NaN  NaN\n",
       " NaN  NaN  NaN  NaN\n",
       " NaN  NaN  NaN  NaN"
      ]
     },
     "metadata": {},
     "output_type": "display_data"
    },
    {
     "ename": "LoadError",
     "evalue": "LAPACKException(5)",
     "output_type": "error",
     "traceback": [
      "LAPACKException(5)",
      "",
      "Stacktrace:",
      " [1] chklapackerror at C:\\buildbot\\worker\\package_win64\\build\\usr\\share\\julia\\stdlib\\v1.5\\LinearAlgebra\\src\\lapack.jl:38 [inlined]",
      " [2] gesdd!(::Char, ::Array{Float64,2}) at C:\\buildbot\\worker\\package_win64\\build\\usr\\share\\julia\\stdlib\\v1.5\\LinearAlgebra\\src\\lapack.jl:1650",
      " [3] _svd! at C:\\buildbot\\worker\\package_win64\\build\\usr\\share\\julia\\stdlib\\v1.5\\LinearAlgebra\\src\\svd.jl:105 [inlined]",
      " [4] svd!(::Array{Float64,2}; full::Bool, alg::LinearAlgebra.DivideAndConquer) at C:\\buildbot\\worker\\package_win64\\build\\usr\\share\\julia\\stdlib\\v1.5\\LinearAlgebra\\src\\svd.jl:98",
      " [5] #svd#85 at C:\\buildbot\\worker\\package_win64\\build\\usr\\share\\julia\\stdlib\\v1.5\\LinearAlgebra\\src\\svd.jl:158 [inlined]",
      " [6] pinv(::Array{Float64,2}; atol::Float64, rtol::Float64) at C:\\buildbot\\worker\\package_win64\\build\\usr\\share\\julia\\stdlib\\v1.5\\LinearAlgebra\\src\\dense.jl:1356",
      " [7] pinv at C:\\buildbot\\worker\\package_win64\\build\\usr\\share\\julia\\stdlib\\v1.5\\LinearAlgebra\\src\\dense.jl:1335 [inlined]",
      " [8] m_step(::Main.FHMMs.FHMM, ::Array{Float64,3}, ::Array{Float64,2}, ::Array{Float64,3}, ::Array{Float64,4}) at C:\\Users\\nickh\\Documents\\Projects\\fhmm_julia\\structured_vfhmm2.jl:156",
      " [9] fit_sv2!(::Main.FHMMs.FHMM, ::Array{Float64,2}; maxiter::Int64, tol::Float64, fzero::Bool, verbose::Bool) at C:\\Users\\nickh\\Documents\\Projects\\fhmm_julia\\structured_vfhmm2.jl:201",
      " [10] fit_sv2!(::Main.FHMMs.FHMM, ::Array{Float64,2}) at C:\\Users\\nickh\\Documents\\Projects\\fhmm_julia\\structured_vfhmm2.jl:169",
      " [11] top-level scope at In[1]:8",
      " [12] include_string(::Function, ::Module, ::String, ::String) at .\\loading.jl:1091"
     ]
    }
   ],
   "source": [
    "using StatsBase\n",
    "using LinearAlgebra\n",
    "using Distributions\n",
    "include(\"FHMMs.jl\")\n",
    "\n",
    "Y = rand(5,4)\n",
    "\n",
    "Main.FHMMs.fit_sv2!(Main.FHMMs.FHMM(5,3,2), Y)\n",
    "#test.W"
   ]
  },
  {
   "cell_type": "code",
   "execution_count": 8,
   "metadata": {},
   "outputs": [
    {
     "name": "stderr",
     "output_type": "stream",
     "text": [
      "WARNING: replacing module FHMMs.\n"
     ]
    },
    {
     "data": {
      "text/plain": [
       "generate (generic function with 3 methods)"
      ]
     },
     "execution_count": 8,
     "metadata": {},
     "output_type": "execute_result"
    }
   ],
   "source": [
    "\n",
    "\n",
    "function generate(model::Main.FHMMs.FHMM, timesteps::Int)\n",
    "    X = zeros(size(model.W)[1], timesteps)\n",
    "    # choose initial states based on π\n",
    "    states = zeros(Int64, model.M, timesteps)\n",
    "    for m=1:model.M\n",
    "        idx = sample(weights(model.π[:,m]))\n",
    "        states[m,1] = Int64(idx)\n",
    "    end\n",
    "    for t=1:timesteps    \n",
    "        mu = zeros(model.D)\n",
    "        for m=1:model.M\n",
    "            mu += model.W[:,states[m,t],m]\n",
    "        end\n",
    "        n = MvNormal(mu, model.C)\n",
    "        X[:,t] = rand(n)\n",
    "        if t < timesteps\n",
    "            for m=1:model.M\n",
    "                nsp = model.P[states[m,t],:,m]\n",
    "                #display(nsp)\n",
    "                smpl = sample(weights(nsp))\n",
    "                states[m,t+1] = smpl\n",
    "            end\n",
    "        end\n",
    "    end\n",
    "    return X,states\n",
    "end"
   ]
  },
  {
   "cell_type": "code",
   "execution_count": null,
   "metadata": {},
   "outputs": [],
   "source": [
    "function sample_states(model::Main.FHMMs.FHMM, timesteps::Int, iter=1000)\n",
    "    # we need to sample theta, KxMxT\n",
    "    # θ[1,1,2] represents the probabilities of chain (1) being in state (1) at time 2, \n",
    "    # θ[3,1,2] represents the probabilities of chain (1) being in state (3) at time 2, etc\n",
    "    # this is unconditional wrt the observation\n",
    "    theta_sampled = zeros(model.K,model.M, timesteps)\n",
    "    for i=1:iter\n",
    "        theta_iter = zeros(model.K,model.M,timesteps)\n",
    "        for m=1:model.M\n",
    "            s = sample(weights(model.π[:,m]))\n",
    "            theta_iter[s, m,1] += 1\n",
    "        end\n",
    "        for t=2:timesteps\n",
    "            for m=1:model_actual.M\n",
    "                lastState = findfirst((t) -> t == 1, theta_iter[:,m,t-1])\n",
    "                s = sample(weights(model.P[lastState,:,m]))\n",
    "                theta_iter[s,m,t] += 1\n",
    "            end\n",
    "        end\n",
    "        theta_sampled .+= theta_iter\n",
    "    end\n",
    "    theta_sampled ./= iter\n",
    "    return theta_sampled\n",
    "end\n"
   ]
  },
  {
   "cell_type": "code",
   "execution_count": null,
   "metadata": {},
   "outputs": [],
   "source": [
    "function get_state_combinations(M::Int, K::Int)\n",
    "    state_combinations = []\n",
    "    m = 1\n",
    "    stack = []\n",
    "    while(true)\n",
    "        if(m == M)\n",
    "            if(size(stack)[1] != M - 1)\n",
    "                break\n",
    "            end\n",
    "            for s=1:K\n",
    "                push!(stack, s)\n",
    "                push!(state_combinations, copy(stack))\n",
    "                pop!(stack)\n",
    "            end\n",
    "            stack[end] +=1\n",
    "            while(stack[end] > K)\n",
    "                pop!(stack)\n",
    "                if(size(stack)[1] == 0)\n",
    "                    break\n",
    "                end\n",
    "                stack[end] +=1\n",
    "                m -= 1\n",
    "            end\n",
    "        else\n",
    "            push!(stack, 1)\n",
    "            m += 1\n",
    "        end\n",
    "    end\n",
    "    return state_combinations\n",
    "end"
   ]
  },
  {
   "cell_type": "code",
   "execution_count": null,
   "metadata": {},
   "outputs": [],
   "source": [
    "# we want to calculate \n",
    "# P(Mt=St|Yt)\n",
    "# = P(Yt|Mt=St).P(Mt=St|Mt-1=St-1) / P(Yt)\n",
    "# This decoding is specific to the completely factorized VI model which uses a simplified P(Mt|Yt) that assumes \n",
    "# no dependence between timesteps. Viterbi decoding is therefore not required, since we don't need to find the max sequence,\n",
    "# we just take the max P at each timestep.\n",
    "# even though each chain is independent but the observation is conditional on *all* chains \n",
    "# this is because Yt is a sum of M1,M2,M3...\n",
    "# i.e. P(Yt|M1t=S1t,M2t=.., M3t=..) != P(Yt|M1t=S1t)\n",
    "# but we have θ, which is an estimation of P(M1t=S1t), P(M1t=S2t)...P(Mmt=Sst)\n",
    "# so we need to find all configurations of M/S at this t\n",
    "# cross product of (M1xS)x(M2xS)x..x(MkxS)\n",
    "# if we are using the variational inference model, θ is KxMxT\n",
    "# θ[1,1,2] represents p(chain (1) in state (1) at time 2) \n",
    "# θ[3,1,2] represents p(chain (1) in state (3) at time 2), etc\n",
    "# this is unconditional wrt the observation\n",
    "# i.e. P(Mt=St|M(t-1)=S(t-1))\n",
    "# therefore P(Mt=St) is the product over dim(1) at T\n",
    "function decode(model::Main.FHMMs.FHMM, X::Array{Float64,2}, θ::Array{Float64,3})\n",
    "    \n",
    "    D=size(X)[1]\n",
    "    timesteps=size(X)[2]\n",
    "    \n",
    "    states = zeros(model.M,timesteps)\n",
    "    for t=1:timesteps\n",
    "        pmax = -1\n",
    "        mmax = []\n",
    "        stack = []\n",
    "        m = 1\n",
    "        M = model.M\n",
    "        K = model.K\n",
    "        while(true)\n",
    "            if(m == M)\n",
    "                if(size(stack)[1] != M - 1)\n",
    "                    break\n",
    "                end\n",
    "                for s=1:K\n",
    "                    push!(stack, s)\n",
    "                    mu = zeros(D)\n",
    "                    for i=1:M\n",
    "                        mu += model.W[:, stack[i], i]\n",
    "                    end\n",
    "                    \n",
    "                    p_yt_given_mt_in_s = pdf(MvNormal(mu, Array{Float64,2}(Hermitian(Symmetric(model.C)))), X[:,t])\n",
    "                    p_mt_in_s = reduce(*, θ[stack,:,t])\n",
    "                    unnormalized = p_yt_given_mt_in_s * p_mt_in_s\n",
    "                    if unnormalized > pmax\n",
    "                        pmax = unnormalized\n",
    "                        mmax = copy(stack)\n",
    "                    end\n",
    "                    pop!(stack)\n",
    "                end\n",
    "                stack[end] +=1\n",
    "                while(stack[end] > K)\n",
    "                    pop!(stack)\n",
    "                    if(size(stack)[1] == 0)\n",
    "                        break\n",
    "                    end\n",
    "                    stack[end] +=1\n",
    "                    m -= 1\n",
    "                end\n",
    "            else\n",
    "                push!(stack, 1)\n",
    "                m += 1\n",
    "            end\n",
    "        end\n",
    "        states[:,t] = mmax\n",
    "    end\n",
    "    return states\n",
    "end"
   ]
  },
  {
   "cell_type": "code",
   "execution_count": null,
   "metadata": {},
   "outputs": [],
   "source": [
    "function decode_full(model::Main.FHMMs.FHMM, X::Array{Float64,2})\n",
    "    D=size(X)[1]\n",
    "    timesteps=size(X)[2]\n",
    "    state_combinations = get_state_combinations(model.M, model.K)\n",
    "    state_probabilities = zeros(size(state_combinations)[1],timesteps)\n",
    "    \n",
    "    M = model.M\n",
    "    K = model.K\n",
    "    logP = log.(model.P)\n",
    "    for t=1:timesteps\n",
    "        for s_index=1:size(state_combinations)[1]\n",
    "            state = state_combinations[s_index]\n",
    "            mu = zeros(D)\n",
    "            for i=1:model.M\n",
    "                mu += model.W[:, state[i], i]\n",
    "            end\n",
    "            p_yt_given_mt_in_s = pdf(MvNormal(mu, Array{Float64,2}(Hermitian(Symmetric(model.C)))), X[:,t])\n",
    "                   \n",
    "            if(t == 1)\n",
    "               p_mt_in_s = reduce(*, model.π[[CartesianIndex(state[i], i)  for i=1:model.M]])\n",
    "            else\n",
    "                # calculate the probability that chain M is in state K, P(Mt)\n",
    "                # this is P(Mt|Mt-1, Yt), so P(Mt-1|Yt) * P(Mt|Mt-1)\n",
    "                # P(Mt-1|Yt) is sum over K\n",
    "                p_mt_in_s = 0\n",
    "                for sc_last_index=1:size(state_combinations)[1]\n",
    "                    sc_last = state_combinations[sc_last_index]\n",
    "                    for m_last=1:M\n",
    "                        for m_this=1:M\n",
    "                            p_mt_in_s += exp(\n",
    "                                state_probabilities[sc_last_index,t-1] + \n",
    "                                logP[sc_last[m_this], state[m_this], m_this])\n",
    "                        end\n",
    "                    end\n",
    "                end\n",
    "            end\n",
    "            state_probabilities[s_index,t] = log(p_yt_given_mt_in_s) +  log(p_mt_in_s)\n",
    "         end\n",
    "    end\n",
    "    max_probs = zeros(M, timesteps)\n",
    "    i = 1\n",
    "    for p in argmax(state_probabilities, dims=1)\n",
    "        max_probs[:, p[2]] = state_combinations[p[1]]\n",
    "        i += 1\n",
    "    end\n",
    "    return max_probs\n",
    "end\n",
    "\n",
    "#X, actual = generate(model_actual, 2)\n",
    "#decoded = decode_full(model_actual,X)\n",
    "#actual .== decoded"
   ]
  },
  {
   "cell_type": "code",
   "execution_count": null,
   "metadata": {},
   "outputs": [],
   "source": [
    "# setup our known model\n",
    "# \n",
    "D=15\n",
    "K=3\n",
    "M=2\n",
    "#T=5\n",
    "W=cat( [ 1.0 49.0; -1.0 -49.0 ],[ 1.0 49.0; -1.0 -49.0 ], [ 1.0 49.0; -1.0 -49.0 ], dims=3)\n",
    "π = [ 0.35 0.25 0.95; 0.65 0.75 0.05; ]\n",
    "P = cat([ 0.3 0.7 ; 0.2 0.8 ; ],\n",
    "    [ 0.5 0.5 ; 0.4 0.6 ;  ],\n",
    "    [ 0.75 0.25 ; 0.89 0.11 ; ], dims=3)\n",
    "W = rand(D,K,M)\n",
    "π = rand(K,M)\n",
    "π ./= sum(π,dims=(1))\n",
    "P = rand(K, K, M)\n",
    "P ./= sum(P, dims=2)\n",
    "#C = rand(D,D)\n",
    "C = Array{Float64}(Diagonal([0.1 for x in 1:D]))\n",
    "model_actual = Main.FHMMs.FHMM(D,K,M,\n",
    "    W, π, P, C)\n",
    "\n",
    "X, actual = generate(model_actual, 4)\n",
    "\n"
   ]
  },
  {
   "cell_type": "code",
   "execution_count": null,
   "metadata": {},
   "outputs": [],
   "source": [
    "model_learn = Main.FHMMs.FHMM(D,K,M)\n",
    "result = Main.FHMMs.fit_sv!(model_learn,X,maxiter=5000,verbose=true)    "
   ]
  },
  {
   "cell_type": "code",
   "execution_count": null,
   "metadata": {},
   "outputs": [],
   "source": [
    "result.γ"
   ]
  },
  {
   "cell_type": "code",
   "execution_count": null,
   "metadata": {},
   "outputs": [],
   "source": [
    "actual"
   ]
  },
  {
   "cell_type": "code",
   "execution_count": null,
   "metadata": {},
   "outputs": [],
   "source": [
    "timesteps=10\n",
    "num_observations = 100\n",
    "\n",
    "theta_sampled = sample_states(model_actual, timesteps, 1000)\n",
    "j = 0\n",
    "for i in 1:num_observations\n",
    "    X,actual_states = generate(model_actual, timesteps)\n",
    "    estimated_states = decode(model_actual,X, theta_sampled)\n",
    "    j += sum(actual_states .== estimated_states)\n",
    "end\n",
    "j / (num_observations * timesteps * model_actual.M)"
   ]
  },
  {
   "cell_type": "code",
   "execution_count": null,
   "metadata": {},
   "outputs": [],
   "source": [
    "j = 0\n",
    "for i in 1:num_observations\n",
    "    X,actual_states = generate(model_actual, timesteps)\n",
    "    estimated_states = decode_full(model_actual,X)\n",
    "    j += sum(actual_states .== estimated_states)\n",
    "end\n",
    "j / (num_observations * timesteps * model_actual.M)"
   ]
  },
  {
   "cell_type": "code",
   "execution_count": null,
   "metadata": {},
   "outputs": [],
   "source": [
    "model_learn = Main.FHMMs.FHMM(D,K,M)\n",
    "j = 0\n",
    "num_observations = 50\n",
    "for i=1:num_observations\n",
    "    X,actual_states = generate(model_actual, timesteps)\n",
    "    \n",
    "    result = Main.FHMMs.fit!(model_learn,X,maxiter=100)    \n",
    "    \n",
    "    estimated_states = decode_full(model_learn,X)\n",
    "    j += sum(actual_states .== estimated_states)\n",
    "end\n",
    "j / (num_observations * timesteps * model_actual.M)"
   ]
  },
  {
   "cell_type": "code",
   "execution_count": null,
   "metadata": {},
   "outputs": [],
   "source": [
    "timesteps=10\n",
    "model_learn = Main.FHMMs.FHMM(D,K,M)\n",
    "j = 0\n",
    "num_observations = 100\n",
    "for i=1:num_observations\n",
    "    X,actual_states = generate(model_actual, timesteps)\n",
    "    result = Main.FHMMs.fit!(model_learn,X,maxiter=100,fzero=true)    \n",
    "    for i in 1:D\n",
    "        model_learn.C[i, i] += 0.0001\n",
    "    end\n",
    "    #println(cholesky(Hermitian(Symmetric(model_learn.C))))\n",
    "    estimated_states = decode(model_learn,X, result.θ)\n",
    "    j += sum(actual_states .== estimated_states)\n",
    "    println(j / (i * timesteps * model_actual.M))\n",
    "end\n",
    "j / (num_observations * timesteps * model_actual.M)"
   ]
  },
  {
   "cell_type": "code",
   "execution_count": null,
   "metadata": {},
   "outputs": [],
   "source": []
  }
 ],
 "metadata": {
  "kernelspec": {
   "display_name": "Julia 1.5.3",
   "language": "julia",
   "name": "julia-1.5"
  },
  "language_info": {
   "file_extension": ".jl",
   "mimetype": "application/julia",
   "name": "julia",
   "version": "1.5.3"
  }
 },
 "nbformat": 4,
 "nbformat_minor": 2
}
