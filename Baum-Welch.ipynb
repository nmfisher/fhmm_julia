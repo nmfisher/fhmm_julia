{
 "cells": [
  {
   "cell_type": "code",
   "execution_count": 286,
   "metadata": {},
   "outputs": [
    {
     "data": {
      "text/plain": [
       "generate (generic function with 1 method)"
      ]
     },
     "execution_count": 286,
     "metadata": {},
     "output_type": "execute_result"
    }
   ],
   "source": [
    "struct HMM\n",
    "    K::Int # number of states\n",
    "    D::Int # observation size of emission\n",
    "    π::Array{Float64, 1} # initial state probability matrix, Kx1\n",
    "    T::Array{Float64, 2} # transition probability matrix, Kx(K+1)   \n",
    "    E::Array{Float64, 2} # emission probability matrix, KxD\n",
    "    function HMM(K::Int, D::Int)\n",
    "        π  = rand(K)\n",
    "        π ./= sum(π)\n",
    "        E = rand(K,D)\n",
    "        E = E ./ sum(E,dims=2)\n",
    "        T = rand(K, K)\n",
    "        T ./= sum(T,dims=2)\n",
    "        new(K, D,π,T, E)\n",
    "    end        \n",
    "end\n",
    "\n",
    "function emission(hmm::HMM, s::Int)\n",
    "    e = zeros(hmm.D)\n",
    "    #println(hmm.E[s,:])\n",
    "    cs = cumsum(hmm.E[s,:],dims=1)\n",
    "    #println(cs)\n",
    "    rnd = rand()\n",
    "    #println(rnd)\n",
    "    dims = cs .<= rnd\n",
    "    #println(dims)\n",
    "    e[sum(dims) + 1] = 1\n",
    "    return e\n",
    "end\n",
    "\n",
    "function generate(hmm::HMM, t::Int)\n",
    "    #println(hmm.π)\n",
    "    #println(cumsum(hmm.π, dims=1))\n",
    "    rnd = rand()\n",
    "    #println(rnd)\n",
    "    cs = cumsum(hmm.π, dims=1)\n",
    "    #println(cs)\n",
    "    #println(cs .<= rnd)\n",
    "    state = sum(cs .<= rnd) + 1\n",
    "    #println(\"Starting state $state\")\n",
    "    #return\n",
    "    #println(hmm.T)\n",
    "    #println(hmm.T[1,:])\n",
    "    observations = zeros(hmm.D, t)\n",
    "    for i=1:t\n",
    "        o = emission(hmm, state)\n",
    "        observations[:,i] = o\n",
    "        #println(hmm.T[state,:])\n",
    "        rnd = rand()\n",
    "        #println(rnd)\n",
    "        #println(cumsum(hmm.T[state,:], dims=1))\n",
    "        #println(sum(cumsum(hmm.T[state,:], dims=1) .<= rnd) )\n",
    "        state = sum(cumsum(hmm.T[state,:], dims=1) .<= rnd) + 1\n",
    "        #println(\"new state $state\")\n",
    "    end\n",
    "    observations\n",
    "    #return hmm.π * hmm.E\n",
    "end\n",
    "\n",
    "#X = [ 1 0 1 0; 0 1 0 0; 0 0 0 1 ]\n",
    "#X"
   ]
  },
  {
   "cell_type": "code",
   "execution_count": 298,
   "metadata": {},
   "outputs": [
    {
     "data": {
      "text/plain": [
       "e_step (generic function with 2 methods)"
      ]
     },
     "execution_count": 298,
     "metadata": {},
     "output_type": "execute_result"
    }
   ],
   "source": [
    "# estep\n",
    "function e_step(hmm::HMM, X::Array{Float64,2})\n",
    "    timesteps = size(X)[2]\n",
    "    # set up alpha matrix\n",
    "    alpha = zeros(hmm.K,timesteps)\n",
    "    # set first column to the emission probability given state of the first observation, \n",
    "    # multiplied by probability of starting in that state\n",
    "    alpha[:,1] = (hmm.π .* (hmm.E * X))[:,1]\n",
    "\n",
    "    for t=2:size(X)[2]\n",
    "        for s=1:hmm.K\n",
    "            for s_=1:hmm.K\n",
    "                if s_ != s\n",
    "                    alpha[s,t] = alpha[s,t-1] * hmm.T[s,s_] * sum(hmm.E[s] * X[:,t])\n",
    "                end\n",
    "            end\n",
    "        end\n",
    "    end\n",
    "\n",
    "    f_prob = alpha[lastindex(alpha)] + alpha[lastindex(alpha)-1]\n",
    "    f_prob # P of the observation (from t=1 to T=T) given current model parameters\n",
    "    \n",
    "    # set up beta matrix\n",
    "    beta = zeros(hmm.K,timesteps)\n",
    "    # set last column of beta matrix to 1\n",
    "    beta[:,timesteps] .= 1\n",
    "    E_X = hmm.E * X\n",
    "\n",
    "    for t in timesteps-1:-1:1\n",
    "        for s_i in 1:hmm.K\n",
    "            accum = 0\n",
    "            for s_j in 1:hmm.K\n",
    "                accum += alpha[s_i,s_j] * E_X[s_j,t+1] * beta[s_j,t+1]\n",
    "            end\n",
    "            beta[s_i,t] = accum\n",
    "        end\n",
    "    end\n",
    "    return alpha, beta, f_prob\n",
    "end"
   ]
  },
  {
   "cell_type": "code",
   "execution_count": 305,
   "metadata": {},
   "outputs": [
    {
     "data": {
      "text/plain": [
       "m_step (generic function with 3 methods)"
      ]
     },
     "execution_count": 305,
     "metadata": {},
     "output_type": "execute_result"
    }
   ],
   "source": [
    "function m_step(hmm::HMM, X::Array{Float64,2}, alpha::Array{Float64,2}, beta::Array{Float64,2}, f_prob::Float64)\n",
    "    timesteps = size(X)[2]\n",
    "    E_X = hmm.E * X\n",
    "\n",
    "    # gamma is Kxtimesteps\n",
    "    gamma = alpha .* beta ./ f_prob\n",
    "    ksi=zeros(hmm.K,hmm.K,timesteps-1)\n",
    "    for t=1:timesteps-1\n",
    "        for s_i=1:hmm.K\n",
    "            for s_j=1:hmm.K\n",
    "                ksi[s_i,s_j,t] = (alpha[s_i,t] * hmm.T[s_i, s_j] * E_X[t+1] * beta[s_j, t+1]) / f_prob\n",
    "            end\n",
    "        end\n",
    "    end\n",
    "    for s_i=1:hmm.K\n",
    "        for s_j=1:hmm.K\n",
    "            for t=1:timesteps\n",
    "                #println(ksi[s_i,s_j,1:timesteps-1]) / sum(ksi[s_i,:,:]))\n",
    "                hmm.T[s_i, s_j] = sum(ksi[s_i,s_j,1:timesteps-1]) / sum(ksi[s_i,:,:])\n",
    "            end\n",
    "        end\n",
    "    end\n",
    "\n",
    "    for s_j=1:hmm.K\n",
    "        total = sum(gamma[s_j,:])\n",
    "\n",
    "        for v=1:hmm.D\n",
    "            accum = 0\n",
    "            for t=1:timesteps\n",
    "               if(v==argmax(X[:,t]))\n",
    "                    accum += gamma[s_j,t]\n",
    "                end \n",
    "            end\n",
    "            hmm.E[s_j,v] = accum / total\n",
    "        end\n",
    "    end\n",
    "end"
   ]
  },
  {
   "cell_type": "code",
   "execution_count": 316,
   "metadata": {},
   "outputs": [
    {
     "data": {
      "text/plain": [
       "train (generic function with 1 method)"
      ]
     },
     "execution_count": 316,
     "metadata": {},
     "output_type": "execute_result"
    }
   ],
   "source": [
    "function train(hmm::HMM, X::Array{Float64,2})\n",
    "    for i in 1:10\n",
    "        alpha, beta, f_prob = e_step(hmm,X)\n",
    "        m_step(hmm,X, alpha, beta, f_prob)    \n",
    "    end\n",
    "end\n"
   ]
  },
  {
   "cell_type": "code",
   "execution_count": 325,
   "metadata": {},
   "outputs": [
    {
     "name": "stdout",
     "output_type": "stream",
     "text": [
      "[1.0 0.0 1.0 1.0 1.0; 0.0 0.0 0.0 0.0 0.0; 0.0 1.0 0.0 0.0 0.0](3, 5)\n"
     ]
    }
   ],
   "source": [
    "hmm_actual = HMM(2, 3)\n",
    "generated = generate(hmm_actual, 5)\n",
    "print(generated)\n",
    "println(size(generated))\n",
    "#return\n",
    "#hmm_model = HMM(2, 3)\n",
    "#println(hmm_actual.E)\n",
    "#println(hmm_model.E)\n",
    "#train(hmm_model, generate(hmm_actual, 5))\n",
    "#println(hmm_model.E)\n",
    "#train(hmm_model, generate(hmm_actual, 5))\n",
    "#println(hmm_model.E)\n",
    "#train(hmm_model, generate(hmm_actual, 5))\n",
    "#println(hmm_model.E)"
   ]
  },
  {
   "cell_type": "code",
   "execution_count": 313,
   "metadata": {},
   "outputs": [
    {
     "name": "stdout",
     "output_type": "stream",
     "text": [
      "[0.2547050416454581 0.3824355909785932 0.3628593673759487; 0.14933481913013563 0.389344433972019 0.46132074689784536]\n",
      "[0.080266620380813 0.9197333796191871 0.0; 1.0 0.0 0.0]\n"
     ]
    }
   ],
   "source": []
  }
 ],
 "metadata": {
  "kernelspec": {
   "display_name": "Julia 1.5.3",
   "language": "julia",
   "name": "julia-1.5"
  },
  "language_info": {
   "file_extension": ".jl",
   "mimetype": "application/julia",
   "name": "julia",
   "version": "1.5.3"
  }
 },
 "nbformat": 4,
 "nbformat_minor": 2
}
